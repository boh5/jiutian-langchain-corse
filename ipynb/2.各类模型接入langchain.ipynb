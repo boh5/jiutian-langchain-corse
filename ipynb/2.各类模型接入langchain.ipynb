{
 "cells": [
  {
   "cell_type": "code",
   "execution_count": 2,
   "id": "d2f520b9",
   "metadata": {},
   "outputs": [],
   "source": [
    "import os\n",
    "from dotenv import load_dotenv\n",
    "\n",
    "load_dotenv(override=True)\n",
    "DASHSCOPE_API_KEY = os.getenv(\"DASHSCOPE_API_KEY\")"
   ]
  },
  {
   "cell_type": "code",
   "execution_count": 3,
   "id": "432ebc54",
   "metadata": {},
   "outputs": [
    {
     "name": "stdout",
     "output_type": "stream",
     "text": [
      "你好！我是一个乐于助人的 AI 助手，随时准备回答你的问题、提供建议或协助完成各种任务。无论你需要学习新知识、解决日常问题，还是想聊聊有趣的话题，我都会尽力帮助你。\n",
      "\n",
      "我的特点包括：\n",
      "1. **多领域知识**：涵盖科技、生活、教育、娱乐等多个方面。\n",
      "2. **24 小时在线**：随时响应你的需求。\n",
      "3. **中立与友好**：提供客观信息，同时保持积极交流。\n",
      "\n",
      "你可以问我任何问题，比如：\n",
      "- \"如何快速学习一门新语言？\"\n",
      "- \"推荐几本经典科幻小说。\"\n",
      "- \"帮我规划一周健康食谱。\"\n",
      "\n",
      "期待和你交流！现在有什么我可以帮你的吗？ 😊\n"
     ]
    }
   ],
   "source": [
    "from openai import OpenAI\n",
    "\n",
    "client = OpenAI(\n",
    "    api_key=DASHSCOPE_API_KEY,\n",
    "    base_url=\"https://dashscope.aliyuncs.com/compatible-mode/v1\",\n",
    ")\n",
    "\n",
    "response = client.chat.completions.create(\n",
    "    model=\"deepseek-v3\",\n",
    "    messages=[\n",
    "        {\"role\": \"system\", \"content\": \"你是乐于助人的助手，请根据用户的问题给出答案\"},\n",
    "        {\"role\": \"user\", \"content\": \"你好，请介绍一下你自己。\"},\n",
    "    ],\n",
    ")\n",
    "\n",
    "print(response.choices[0].message.content)"
   ]
  },
  {
   "cell_type": "code",
   "execution_count": 7,
   "id": "6c2f1f6a",
   "metadata": {},
   "outputs": [
    {
     "name": "stdout",
     "output_type": "stream",
     "text": [
      "你好！我是 **DeepSeek Chat**，由深度求索（DeepSeek）公司研发的智能 AI 助手。我可以帮助你回答问题、提供信息、辅助学习和工作，还能处理和分析上传的文档（如 PDF、Word、Excel 等）。  \n",
      "\n",
      "### **我的特点：**  \n",
      "✅ **免费使用**——目前无需付费，尽情提问！  \n",
      "✅ **超长上下文**——支持 **128K** 上下文记忆，能处理复杂问题。  \n",
      "✅ **多文件处理**——可以解析文档内容，帮你总结、提取关键信息。  \n",
      "✅ **知识丰富**——我的知识截止到 **2024 年 7 月**，能提供较新的信息。  \n",
      "✅ **多种用途**——无论是写作、编程、学习、办公，还是日常咨询，我都能帮忙！  \n",
      "\n",
      "我没有语音功能，但可以和你流畅地进行文本交流。如果你有任何问题，尽管问我吧！😊\n"
     ]
    }
   ],
   "source": [
    "from langchain.chat_models import init_chat_model\n",
    "\n",
    "model = init_chat_model(\n",
    "    model=\"deepseek-v3\",\n",
    "    model_provider=\"openai\",\n",
    "    api_key=DASHSCOPE_API_KEY,\n",
    "    base_url=\"https://dashscope.aliyuncs.com/compatible-mode/v1\",\n",
    ")\n",
    "\n",
    "question = \"你好，请你介绍一下自己\"\n",
    "\n",
    "result = model.invoke(question)\n",
    "print(result.content)"
   ]
  },
  {
   "cell_type": "code",
   "execution_count": null,
   "id": "26563c75",
   "metadata": {},
   "outputs": [
    {
     "data": {
      "text/plain": [
       "AIMessage(content='你好！我是 **DeepSeek Chat**，由深度求索（DeepSeek）公司研发的智能 AI 助手。我可以帮助你回答问题、提供信息、辅助学习和工作，还能处理和分析上传的文档（如 PDF、Word、Excel 等）。  \\n\\n### **我的特点：**  \\n✅ **免费使用**——目前无需付费，尽情提问！  \\n✅ **超长上下文**——支持 **128K** 上下文记忆，能处理复杂问题。  \\n✅ **多文件处理**——可以解析文档内容，帮你总结、提取关键信息。  \\n✅ **知识丰富**——我的知识截止到 **2024 年 7 月**，能提供较新的信息。  \\n✅ **多种用途**——无论是写作、编程、学习、办公，还是日常咨询，我都能帮忙！  \\n\\n我没有语音功能，但可以和你流畅地进行文本交流。如果你有任何问题，尽管问我吧！😊', additional_kwargs={'refusal': None}, response_metadata={'token_usage': {'completion_tokens': 192, 'prompt_tokens': 8, 'total_tokens': 200, 'completion_tokens_details': None, 'prompt_tokens_details': None}, 'model_name': 'deepseek-v3', 'system_fingerprint': None, 'id': 'chatcmpl-fb493467-ebb8-9793-b52b-b0339ce07c3d', 'service_tier': None, 'finish_reason': 'stop', 'logprobs': None}, id='run--304966b8-5147-4674-b003-245f3de03300-0', usage_metadata={'input_tokens': 8, 'output_tokens': 192, 'total_tokens': 200, 'input_token_details': {}, 'output_token_details': {}})"
      ]
     },
     "execution_count": 8,
     "metadata": {},
     "output_type": "execute_result"
    }
   ],
   "source": [
    "result"
   ]
  },
  {
   "cell_type": "code",
   "execution_count": 9,
   "id": "8baf08b9",
   "metadata": {},
   "outputs": [
    {
     "name": "stdout",
     "output_type": "stream",
     "text": [
      "你好呀！👋 很高兴认识你～\n",
      "\n",
      "我是 **DeepSeek-R1**，由中国人工智能公司 **深度求索（DeepSeek）** 开发的一款智能助手。我的使命就是用清晰、温暖、专业的方式，帮你解答问题、整理信息、激发灵感，陪你一起探索知识的海洋！🌊\n",
      "\n",
      "---\n",
      "\n",
      "### 🧠 我能做什么？\n",
      "我擅长处理各种文字类任务，比如：\n",
      "- **知识问答**：历史、科技、文化、生活常识……有问必答！\n",
      "- **写作辅助**：写作文、改简历、起标题、润色邮件、写小红书文案，通通没问题 ✍️\n",
      "- **学习辅导**：数学解题、英语翻译、论文总结、考试复习……陪你一起进步 📚\n",
      "- **办公帮手**：Word/PDF/Excel 文件处理、PPT大纲、数据分析、项目规划 📊\n",
      "- **编程支持**：多种语言代码编写、调试、讲解、优化（Python、Java、C++…）💻\n",
      "- **创意灵感**：写小说、编剧本、起名字、策划活动，脑洞大开 🎨\n",
      "\n",
      "---\n",
      "\n",
      "### 🆓 我是免费的吗？\n",
      "**是的！目前我完全免费使用** 🎉  \n",
      "没有隐藏收费，也没有强制订阅～你可以随时来问我问题，我一直都在！\n",
      "\n",
      "---\n",
      "\n",
      "### 📁 我能读文件吗？\n",
      "当然可以！你上传的 **PDF、Word、Excel、PPT、TXT** 等文件，我都能读取内容，并帮你总结、提取重点、翻译、改写等。📄\n",
      "\n",
      "---\n",
      "\n",
      "### 🌐 联网吗？有记忆吗？\n",
      "- **联网能力**：目前我**不支持主动联网搜索**（截至2024年7月），但我的知识库更新到了 **2024年7月**，内容非常丰富。\n",
      "- **记忆功能**：在单次对话中我能记住上下文（最长支持 **128K 上下文**，相当于几百页书！），但每次新对话我会“重置”，不保留历史隐私信息 🔒\n",
      "\n",
      "---\n",
      "\n",
      "### 🧡 我的特点\n",
      "✅ 响应快速、表达自然  \n",
      "✅ 支持超长文本处理  \n",
      "✅ 免费使用，无广告  \n",
      "✅ 支持中英文双语交流  \n",
      "\n",
      "如果你愿意，我可以是你贴心的学习搭子、靠谱的工作伙伴、耐心的生活顾问～🌟\n",
      "\n",
      "有什么我可以帮你探索的吗？😊\n"
     ]
    }
   ],
   "source": [
    "from langchain.chat_models import init_chat_model\n",
    "\n",
    "model = init_chat_model(\n",
    "    model=\"deepseek-r1\",\n",
    "    model_provider=\"openai\",\n",
    "    api_key=DASHSCOPE_API_KEY,\n",
    "    base_url=\"https://dashscope.aliyuncs.com/compatible-mode/v1\",\n",
    ")\n",
    "\n",
    "result = model.invoke(question)\n",
    "print(result.content)"
   ]
  },
  {
   "cell_type": "code",
   "execution_count": 11,
   "id": "64fa3f3e",
   "metadata": {},
   "outputs": [
    {
     "data": {
      "text/plain": [
       "AIMessage(content='你好呀！👋 很高兴认识你～\\n\\n我是 **DeepSeek-R1**，由中国人工智能公司 **深度求索（DeepSeek）** 开发的一款智能助手。我的使命就是用清晰、温暖、专业的方式，帮你解答问题、整理信息、激发灵感，陪你一起探索知识的海洋！🌊\\n\\n---\\n\\n### 🧠 我能做什么？\\n我擅长处理各种文字类任务，比如：\\n- **知识问答**：历史、科技、文化、生活常识……有问必答！\\n- **写作辅助**：写作文、改简历、起标题、润色邮件、写小红书文案，通通没问题 ✍️\\n- **学习辅导**：数学解题、英语翻译、论文总结、考试复习……陪你一起进步 📚\\n- **办公帮手**：Word/PDF/Excel 文件处理、PPT大纲、数据分析、项目规划 📊\\n- **编程支持**：多种语言代码编写、调试、讲解、优化（Python、Java、C++…）💻\\n- **创意灵感**：写小说、编剧本、起名字、策划活动，脑洞大开 🎨\\n\\n---\\n\\n### 🆓 我是免费的吗？\\n**是的！目前我完全免费使用** 🎉  \\n没有隐藏收费，也没有强制订阅～你可以随时来问我问题，我一直都在！\\n\\n---\\n\\n### 📁 我能读文件吗？\\n当然可以！你上传的 **PDF、Word、Excel、PPT、TXT** 等文件，我都能读取内容，并帮你总结、提取重点、翻译、改写等。📄\\n\\n---\\n\\n### 🌐 联网吗？有记忆吗？\\n- **联网能力**：目前我**不支持主动联网搜索**（截至2024年7月），但我的知识库更新到了 **2024年7月**，内容非常丰富。\\n- **记忆功能**：在单次对话中我能记住上下文（最长支持 **128K 上下文**，相当于几百页书！），但每次新对话我会“重置”，不保留历史隐私信息 🔒\\n\\n---\\n\\n### 🧡 我的特点\\n✅ 响应快速、表达自然  \\n✅ 支持超长文本处理  \\n✅ 免费使用，无广告  \\n✅ 支持中英文双语交流  \\n\\n如果你愿意，我可以是你贴心的学习搭子、靠谱的工作伙伴、耐心的生活顾问～🌟\\n\\n有什么我可以帮你探索的吗？😊', additional_kwargs={'refusal': None}, response_metadata={'token_usage': {'completion_tokens': 693, 'prompt_tokens': 8, 'total_tokens': 701, 'completion_tokens_details': None, 'prompt_tokens_details': None}, 'model_name': 'deepseek-r1', 'system_fingerprint': None, 'id': 'chatcmpl-58ea2df6-70bd-95e8-b3bb-6fb71a351e4e', 'service_tier': None, 'finish_reason': 'stop', 'logprobs': None}, id='run--8fae6b8a-63ba-4fd7-8879-3d8c29253bcf-0', usage_metadata={'input_tokens': 8, 'output_tokens': 693, 'total_tokens': 701, 'input_token_details': {}, 'output_token_details': {}})"
      ]
     },
     "execution_count": 11,
     "metadata": {},
     "output_type": "execute_result"
    }
   ],
   "source": [
    "result"
   ]
  }
 ],
 "metadata": {
  "kernelspec": {
   "display_name": ".venv",
   "language": "python",
   "name": "python3"
  },
  "language_info": {
   "codemirror_mode": {
    "name": "ipython",
    "version": 3
   },
   "file_extension": ".py",
   "mimetype": "text/x-python",
   "name": "python",
   "nbconvert_exporter": "python",
   "pygments_lexer": "ipython3",
   "version": "3.12.11"
  }
 },
 "nbformat": 4,
 "nbformat_minor": 5
}
