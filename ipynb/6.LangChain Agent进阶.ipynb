{
 "cells": [
  {
   "cell_type": "code",
   "execution_count": 2,
   "id": "ee9460fe",
   "metadata": {},
   "outputs": [],
   "source": [
    "import os\n",
    "from dotenv import load_dotenv\n",
    "\n",
    "load_dotenv(override=True)\n",
    "DASHSCOPE_API_KEY = os.getenv(\"DASHSCOPE_API_KEY\")"
   ]
  },
  {
   "cell_type": "code",
   "execution_count": 7,
   "id": "3863a05a",
   "metadata": {},
   "outputs": [],
   "source": [
    "from langchain_community.tools.tavily_search import TavilySearchResults\n",
    "\n",
    "search = TavilySearchResults(max_results=2)"
   ]
  },
  {
   "cell_type": "code",
   "execution_count": 8,
   "id": "918a8b1e",
   "metadata": {},
   "outputs": [
    {
     "data": {
      "text/plain": [
       "[{'title': '蘋果WWDC 2025十大亮點：所有作業系統改名26、液態玻璃UI亮相',\n",
       "  'url': 'https://www.blocktempo.com/apple-wwdc-2025-conference-begins/',\n",
       "  'content': '科技巨頭蘋果（Apple）在當地時間 6 月 9 日正式開啟了其全球開發者大會（WWDC 2025），本次大會採用線上與線下結合的混合模式，邀請超過 1,000 名開發者、學生及媒體參加，觀看主題演講（Keynote）及平台狀態報告。下文為讀者帶來首日蘋果 WWDC 2025 大會的主要亮點內容。\\n\\n1. 蘋果將其作業系統名稱統一命名\\n\\n蘋果軟體工程高級副總裁 Craig Federighi 在 WWDC 上表示，為了反映這些軟體更新將在一年中的大部分時間向客戶提供，該公司將發布 iOS 26、watchOS 26、tvOS 26、macOS 26、visionOS 26 和 iPadOS 26。\\n\\n此次統一將解決多年來作業系統名稱差異的問題。目前，蘋果為 iPhone 提供 iOS 18，為 iPad 提供 iPadOS 18，為其腕戴式裝置提供 watchOS 11，為 Apple TV 提供 tvOS 18，為 Mac 電腦提供 macOS 15，並為第一代 Vision Pro 提供 visionOS 2。 [...] 動區動趨-最具影響力的區塊鏈新聞媒體\\n動區動趨-最具影響力的區塊鏈新聞媒體\\n\\n# 蘋果WWDC 2025十大亮點：所有作業系統改名26、液態玻璃UI亮相、AI功能令人失望…\\n\\nEditor Jr. by\\nEditor Jr.\\n蘋果WWDC 2025十大亮點：所有作業系統改名26、液態玻璃UI亮相、AI功能令人失望…\\n\\n科技巨頭蘋果（Apple）在當地時間 6 月 9 日正式開啟了其全球開發者大會（WWDC 2025），本次大會將從 6 月 9 日持續至 13 日，本文將為讀者帶來蘋果大會首日的亮點。  \\n（前情提要：川普喊「iPhone美國製造」否則課25%關稅，蘋果暴跌、比特幣插針10萬7）  \\n（背景補充：蘋果考慮「棄用Google瀏覽器」升級Safari引入AI搜尋 ，Alphabet股價狂瀉7.5%）',\n",
       "  'score': 0.90830135},\n",
       " {'title': '2025年Apple发布会攻略- WWDC将于6月9日举行！iPad 和Mac新品 ...',\n",
       "  'url': 'https://www.dealmoon.ca/guide/8952',\n",
       "  'content': '第11代 iPad\\n   带屏幕的 HomePod\\n   新版 iPhone SE\\n   M4芯片的 MacBook Air\\n\\n春季发布会虽然不固定，但总会带来一些惊喜，尤其是更新的iPad和其他移动设备。喜欢轻薄笔记本的用户可以期待 M4 MacBook Air 的亮相！\\n\\n### 2. WWDC 2025开发者大会\\n\\n苹果全球开发者大会（WWDC）定于6月9日举行。我们预计将看到一系列Apple Intelligence新功能，公司操作系统的全新设计，甚至可能有搭载M3 Ultra芯片的Mac Pro亮相。\\n\\n今年苹果因Apple Intelligence推广受批评，我预计公司将在会上强调对其承诺，展示更稳健的功能路线图。另一传闻是苹果将推智能家居显示器，有人猜它配表情丰富的机械臂，有人认为更像标准智能屏。WWDC常展新硬件，答案或在此揭晓。\\n\\n此外，有传言苹果会升级Home app，或为新智能屏发布HomeOS软件栈，在众多开发者关注的WWDC展示颇为合理。最后，传苹果将展新AirTag，配可充电电池，比现用CR2032电池的型号更耐用。\\n\\n以往时间参考： [...] 2025年Apple发布会攻略- WWDC将于6月9日举行！iPad 和 Mac新品发布预测！\\n===============================================\\n\\nImage 4: OOliviaZZ OOliviaZZ1.84万 浏览 03-26 更新 01-09 发布\\n\\n每年，Apple都会举办几场独立的发布会，展示最新的产品与服务。不同于CES或E3等行业性活动，Apple的发布会自成一派，通常在 Apple Park 举办，全球观众可以通过线上直播实时观看。今年有哪些期待的Apple活动？让我们一起来看看详细时间表和可能推出的新品！\\n\\nApple发布会时间\\n----------\\n\\nApple通常每年举办3-4场发布会，主要集中在以下时间：\\n\\n   春季发布会：通常在3月至4月（2024年是5月）。\\n   WWDC开发者大会：6 月 9 日举行，主要发布新系统。\\n   9月秋季发布会：重头戏，iPhone和Apple Watch等新品亮相。\\n   10月或11月发布会：更新Mac产品的可能性较大，但并不固定。\\n\\n发布会时间 [...] Apple的发布会通常在美国西部时间上午10点开始，以下是全球主要地区的时间换算：\\n\\n   美国：10am（PST）\\n   加拿大：同上，或下午2pm（AST）\\n   英国：下午6pm（GMT）\\n   欧洲：晚上7pm（CET）\\n   印度：晚上10:30pm（IST）\\n   澳大利亚：次日凌晨1am（AWST）或3am（AEST）\\n\\n发布会时长一般为1-2小时。\\n\\nWWDC和9月发布会通常较长，而春季和晚秋发布会较短。\\n\\n观看方式\\n\\nApple发布会会通过官网、Apple TV App 和 YouTube 进行全球同步直播。\\n\\n2025年的Apple发布会信息会随时更新，喜欢Apple产品的小伙伴一定要关注官方公告，提前锁定观看时间！\\n\\n2025年发布会新品预测\\n------------\\n\\n### 1. 春季发布会\\n\\n时间预测：2025年春季，可能是3月底或4月初。\\n\\n以往时间参考：\\n\\n   2024年：5月7日\\n   2022年：3月8日\\n   2021年：4月20日\\n\\n新品预测：',\n",
       "  'score': 0.8745175}]"
      ]
     },
     "execution_count": 8,
     "metadata": {},
     "output_type": "execute_result"
    }
   ],
   "source": [
    "search.invoke(\"苹果2025WWDC发布会\")"
   ]
  },
  {
   "cell_type": "code",
   "execution_count": null,
   "id": "5ade1230",
   "metadata": {},
   "outputs": [],
   "source": [
    "from langchain_core.prompts import ChatPromptTemplate\n",
    "from langchain.agents import create_tool_calling_agent\n",
    "from langchain.chat_models import init_chat_model\n",
    "\n",
    "\n",
    "tools = [search]\n",
    "\n",
    "prompt = ChatPromptTemplate.from_messages(\n",
    "    [\n",
    "        (\n",
    "            \"system\",\n",
    "            \"你是一名助人为乐的助手，并且可以调用工具进行网络搜素，获取实时信息。\",\n",
    "        ),\n",
    "        (\"human\", \"{input}\"),\n",
    "        (\"placeholder\", \"{agent_scratchpad}\"),\n",
    "    ]\n",
    ")\n",
    "\n",
    "model = init_chat_model(\n",
    "    model=\"deepseek-v3\",\n",
    "    model_provider=\"openai\",\n",
    "    api_key=DASHSCOPE_API_KEY,\n",
    "    base_url=\"https://dashscope.aliyuncs.com/compatible-mode/v1\",\n",
    ")\n",
    "\n",
    "agent = create_tool_calling_agent(model, tools, prompt)"
   ]
  },
  {
   "cell_type": "code",
   "execution_count": 13,
   "id": "50aa50ec",
   "metadata": {},
   "outputs": [
    {
     "name": "stdout",
     "output_type": "stream",
     "text": [
      "\n",
      "\n",
      "\u001b[1m> Entering new AgentExecutor chain...\u001b[0m\n",
      "\u001b[32;1m\u001b[1;3m\n",
      "Invoking: `tavily_search_results_json` with `{'query': '苹果2025WDC发布会时间'}`\n",
      "\n",
      "\n",
      "\u001b[0m\u001b[36;1m\u001b[1;3m[{'title': '苹果公布WWDC25 时间表，开幕主题演讲将于6 月10 日凌晨1 点举行', 'url': 'https://www.ithome.com/0/854/660.htm', 'content': '# 苹果公布 WWDC25 时间表，开幕主题演讲将于 6 月 10 日凌晨 1 点举行\\n\\nIT之家 5 月 20 日消息，苹果公司正式宣布，2025 年全球开发者大会（WWDC 2025）将于太平洋时间 6 月 9 日至 13 日（北京时间 6 月 10 日至 14 日）举行。本届大会将继续以线上形式为主，并在加州库比蒂诺的 Apple Park 举办线下特别活动。\\n\\n其中，大会首日的开幕主题演讲（Keynote）定于太平洋时间 6 月 9 日上午 10 点（北京时间 6 月 10 日凌晨 1 点）举行，届时将发布包括 iOS 19、iPadOS 19、macOS 16、tvOS 19、watchOS 12 以及 visionOS 3 在内的新一代操作系统。\\n\\n参考IT之家此前报道，iOS 19 据称带来自 iOS 7 以来最大规模的界面与功能革新，包括引入 visionOS 风格的半透明毛玻璃效果等设计元素。 [...] 主题演讲结束后，苹果将于太平洋时间 6 月 9 日下午 1 点（北京时间 6 月 10 日凌晨 4 点）举行 Platforms State of the Union 环节，深入介绍各平台的最新开发工具和框架，为开发者提供技术支持。\\n\\n大会期间，苹果将通过 Apple Developer 应用、苹果官网以及 YouTube 频道免费提供超过 100 场技术讲座、在线实验室和一对一咨询等内容，帮助开发者深入了解新系统的特性和功能。\\n\\n此外，苹果还将为部分开发者和学生举办线下特别活动，邀请他们前往 Apple Park 参与主题演讲的现场观看、与苹果工程师面对面交流，并参与多项特别活动。\\n\\n值得注意的是，尽管此前有传言称苹果将在 WWDC 2025 中正式推出“AI 赋能”的 Siri，但据彭博社记者 Mark Gurman 此前透露，此次大会可能不会重点介绍 Siri 的重大更新。苹果可能将相关功能的发布推迟到 2026 年。\\n\\n苹果 WWDC 2025 全球开发者大会专题', 'score': 0.9255605}, {'title': 'Apple 的全球開發者大會將於台灣時間6 月10 日揭開序幕', 'url': 'https://www.apple.com/tw/newsroom/2025/05/apples-worldwide-developers-conference-kicks-off-june-9/', 'content': 'Apple 今日揭曉其年度全球開發者大會 (WWDC) 的精彩活動內容，包括 Keynote 發表會和 Platforms State of the Union 演講。這場將於台灣時間 2025 年 6 月 10 日至 14 日舉行的免費線上大會，將匯聚全球 Apple 開發者社群，深入介紹最新的 Apple 工具、技術與功能。在這一週期間，全球開發者將可與 Apple 工程師、設計師和技術推廣專家交流，並收看超過 100 場會議內容，有助於開發者瞭解最新的功能強化，打造出適合 Apple 各項產品平台的 app 與遊戲。Apple 也將於當地時間 6 月 9 日在 Apple Park 舉辦特別活動，歡迎超過 1,000 位開發者與學生親臨參與盛會。\\n\\nApple Keynote 發表會\\n\\n台灣時間 6 月 10 日凌晨 1 點\\n\\n WWDC25 開幕，首度揭曉將 Apple 平台上推出的各項開創性更新項目。Keynote 發表會將透過 apple.com/tw、Apple TV app 及 Apple YouTube 頻道等平台直播，並將於串流直播結束後以隨選播放方式提供。 [...] 的精彩活動內容，包括 Keynote 發表會和 Platforms State of the Union 演講。這場將於台灣時間 2025 年 6 月 10 日至 14 日舉行的免費線上大會，將匯聚全球 Apple 開發者社群，深入介紹最新的 Apple 工具、技術與功能。在這一週期間，全球開發者將可與 Apple 工程師、設計師和技術推廣專家交流，並收看超過 100 場會議內容，有助於開發者瞭解最新的功能強化，打造出適合 Apple 各項產品平台的 app 與遊戲。Apple 也將於當地時間 6 月 9 日在 Apple Park 舉辦特別活動，歡迎超過 1,000 位開發者與學生親臨參與盛會。\\n\\nApple Keynote 發表會\\n---------------------\\n\\n台灣時間 6 月 10 日凌晨 1 點\\n\\n WWDC25 開幕，首度揭曉將 Apple 平台上推出的各項開創性更新項目。Keynote 發表會將透過 apple.com/tw、Apple TV app 及 Apple YouTube 頻道等平台直播，並將於串流直播結束後以隨選播放方式提供。 [...] 開發者可透過 WWDC25 網站、Apple Developer app、Apple Developer 網站，以及 Apple Developer YouTube 頻道取得所有 WWDC 內容。\\n\\n分享文章\\n\\nMedia\\n-----\\n\\n    新聞文章\\n\\n2025 年 5 月 20 日\\n\\n更新\\n\\nApple 的全球開發者大會將於台灣時間 6 月 10 日揭開序幕\\n\\n這場年度線上大會將於台灣時間 2025 年 6 月 10 日至 14 日舉行，帶來一週科技、創新與創造力的盛會', 'score': 0.8891543}]\u001b[0m\u001b[32;1m\u001b[1;3m苹果2025年全球开发者大会（WWDC25）的开幕主题演讲将于**北京时间6月10日凌晨1点**举行。大会将在线上和线下同步进行，持续至6月14日。更多详情可以参考[苹果官方新闻稿](https://www.apple.com/tw/newsroom/2025/05/apples-worldwide-developers-conference-kicks-off-june-9/)或[IT之家的报道](https://www.ithome.com/0/854/660.htm)。\u001b[0m\n",
      "\n",
      "\u001b[1m> Finished chain.\u001b[0m\n"
     ]
    },
    {
     "data": {
      "text/plain": [
       "{'input': '请搜索苹果2025WDC发布会召开的时间是？',\n",
       " 'output': '苹果2025年全球开发者大会（WWDC25）的开幕主题演讲将于**北京时间6月10日凌晨1点**举行。大会将在线上和线下同步进行，持续至6月14日。更多详情可以参考[苹果官方新闻稿](https://www.apple.com/tw/newsroom/2025/05/apples-worldwide-developers-conference-kicks-off-june-9/)或[IT之家的报道](https://www.ithome.com/0/854/660.htm)。'}"
      ]
     },
     "execution_count": 13,
     "metadata": {},
     "output_type": "execute_result"
    }
   ],
   "source": [
    "from langchain.agents import AgentExecutor\n",
    "\n",
    "\n",
    "agent_executor = AgentExecutor(agent=agent, tools=tools, verbose=True)\n",
    "\n",
    "agent_executor.invoke({\"input\": \"请搜索苹果2025WDC发布会召开的时间是？\"})"
   ]
  },
  {
   "cell_type": "markdown",
   "id": "45684c84",
   "metadata": {},
   "source": [
    "## 浏览器自动化\n",
    "\n",
    "见 **auth_playwright.py**"
   ]
  },
  {
   "cell_type": "markdown",
   "id": "808d81a5",
   "metadata": {},
   "source": [
    "网站总结工具： **palywright_pdf_agent.py**"
   ]
  }
 ],
 "metadata": {
  "kernelspec": {
   "display_name": ".venv",
   "language": "python",
   "name": "python3"
  },
  "language_info": {
   "codemirror_mode": {
    "name": "ipython",
    "version": 3
   },
   "file_extension": ".py",
   "mimetype": "text/x-python",
   "name": "python",
   "nbconvert_exporter": "python",
   "pygments_lexer": "ipython3",
   "version": "3.12.11"
  }
 },
 "nbformat": 4,
 "nbformat_minor": 5
}
