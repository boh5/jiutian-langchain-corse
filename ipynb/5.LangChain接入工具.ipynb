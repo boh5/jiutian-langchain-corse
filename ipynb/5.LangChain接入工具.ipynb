{
 "cells": [
  {
   "cell_type": "code",
   "execution_count": 6,
   "id": "7f0cd094",
   "metadata": {},
   "outputs": [],
   "source": [
    "import os\n",
    "from dotenv import load_dotenv\n",
    "\n",
    "load_dotenv(override=True)\n",
    "DASHSCOPE_API_KEY = os.getenv(\"DASHSCOPE_API_KEY\")"
   ]
  },
  {
   "cell_type": "code",
   "execution_count": 2,
   "id": "4596e909",
   "metadata": {},
   "outputs": [
    {
     "data": {
      "text/html": [
       "<div>\n",
       "<style scoped>\n",
       "    .dataframe tbody tr th:only-of-type {\n",
       "        vertical-align: middle;\n",
       "    }\n",
       "\n",
       "    .dataframe tbody tr th {\n",
       "        vertical-align: top;\n",
       "    }\n",
       "\n",
       "    .dataframe thead th {\n",
       "        text-align: right;\n",
       "    }\n",
       "</style>\n",
       "<table border=\"1\" class=\"dataframe\">\n",
       "  <thead>\n",
       "    <tr style=\"text-align: right;\">\n",
       "      <th></th>\n",
       "      <th>customerID</th>\n",
       "      <th>gender</th>\n",
       "      <th>SeniorCitizen</th>\n",
       "      <th>Partner</th>\n",
       "      <th>Dependents</th>\n",
       "      <th>tenure</th>\n",
       "      <th>PhoneService</th>\n",
       "      <th>MultipleLines</th>\n",
       "      <th>InternetService</th>\n",
       "      <th>OnlineSecurity</th>\n",
       "      <th>...</th>\n",
       "      <th>DeviceProtection</th>\n",
       "      <th>TechSupport</th>\n",
       "      <th>StreamingTV</th>\n",
       "      <th>StreamingMovies</th>\n",
       "      <th>Contract</th>\n",
       "      <th>PaperlessBilling</th>\n",
       "      <th>PaymentMethod</th>\n",
       "      <th>MonthlyCharges</th>\n",
       "      <th>TotalCharges</th>\n",
       "      <th>Churn</th>\n",
       "    </tr>\n",
       "  </thead>\n",
       "  <tbody>\n",
       "    <tr>\n",
       "      <th>0</th>\n",
       "      <td>7590-VHVEG</td>\n",
       "      <td>Female</td>\n",
       "      <td>0</td>\n",
       "      <td>Yes</td>\n",
       "      <td>No</td>\n",
       "      <td>1</td>\n",
       "      <td>No</td>\n",
       "      <td>No phone service</td>\n",
       "      <td>DSL</td>\n",
       "      <td>No</td>\n",
       "      <td>...</td>\n",
       "      <td>No</td>\n",
       "      <td>No</td>\n",
       "      <td>No</td>\n",
       "      <td>No</td>\n",
       "      <td>Month-to-month</td>\n",
       "      <td>Yes</td>\n",
       "      <td>Electronic check</td>\n",
       "      <td>29.85</td>\n",
       "      <td>29.85</td>\n",
       "      <td>No</td>\n",
       "    </tr>\n",
       "    <tr>\n",
       "      <th>1</th>\n",
       "      <td>5575-GNVDE</td>\n",
       "      <td>Male</td>\n",
       "      <td>0</td>\n",
       "      <td>No</td>\n",
       "      <td>No</td>\n",
       "      <td>34</td>\n",
       "      <td>Yes</td>\n",
       "      <td>No</td>\n",
       "      <td>DSL</td>\n",
       "      <td>Yes</td>\n",
       "      <td>...</td>\n",
       "      <td>Yes</td>\n",
       "      <td>No</td>\n",
       "      <td>No</td>\n",
       "      <td>No</td>\n",
       "      <td>One year</td>\n",
       "      <td>No</td>\n",
       "      <td>Mailed check</td>\n",
       "      <td>56.95</td>\n",
       "      <td>1889.5</td>\n",
       "      <td>No</td>\n",
       "    </tr>\n",
       "    <tr>\n",
       "      <th>2</th>\n",
       "      <td>3668-QPYBK</td>\n",
       "      <td>Male</td>\n",
       "      <td>0</td>\n",
       "      <td>No</td>\n",
       "      <td>No</td>\n",
       "      <td>2</td>\n",
       "      <td>Yes</td>\n",
       "      <td>No</td>\n",
       "      <td>DSL</td>\n",
       "      <td>Yes</td>\n",
       "      <td>...</td>\n",
       "      <td>No</td>\n",
       "      <td>No</td>\n",
       "      <td>No</td>\n",
       "      <td>No</td>\n",
       "      <td>Month-to-month</td>\n",
       "      <td>Yes</td>\n",
       "      <td>Mailed check</td>\n",
       "      <td>53.85</td>\n",
       "      <td>108.15</td>\n",
       "      <td>Yes</td>\n",
       "    </tr>\n",
       "    <tr>\n",
       "      <th>3</th>\n",
       "      <td>7795-CFOCW</td>\n",
       "      <td>Male</td>\n",
       "      <td>0</td>\n",
       "      <td>No</td>\n",
       "      <td>No</td>\n",
       "      <td>45</td>\n",
       "      <td>No</td>\n",
       "      <td>No phone service</td>\n",
       "      <td>DSL</td>\n",
       "      <td>Yes</td>\n",
       "      <td>...</td>\n",
       "      <td>Yes</td>\n",
       "      <td>Yes</td>\n",
       "      <td>No</td>\n",
       "      <td>No</td>\n",
       "      <td>One year</td>\n",
       "      <td>No</td>\n",
       "      <td>Bank transfer (automatic)</td>\n",
       "      <td>42.30</td>\n",
       "      <td>1840.75</td>\n",
       "      <td>No</td>\n",
       "    </tr>\n",
       "    <tr>\n",
       "      <th>4</th>\n",
       "      <td>9237-HQITU</td>\n",
       "      <td>Female</td>\n",
       "      <td>0</td>\n",
       "      <td>No</td>\n",
       "      <td>No</td>\n",
       "      <td>2</td>\n",
       "      <td>Yes</td>\n",
       "      <td>No</td>\n",
       "      <td>Fiber optic</td>\n",
       "      <td>No</td>\n",
       "      <td>...</td>\n",
       "      <td>No</td>\n",
       "      <td>No</td>\n",
       "      <td>No</td>\n",
       "      <td>No</td>\n",
       "      <td>Month-to-month</td>\n",
       "      <td>Yes</td>\n",
       "      <td>Electronic check</td>\n",
       "      <td>70.70</td>\n",
       "      <td>151.65</td>\n",
       "      <td>Yes</td>\n",
       "    </tr>\n",
       "  </tbody>\n",
       "</table>\n",
       "<p>5 rows × 21 columns</p>\n",
       "</div>"
      ],
      "text/plain": [
       "   customerID  gender  SeniorCitizen Partner Dependents  tenure PhoneService  \\\n",
       "0  7590-VHVEG  Female              0     Yes         No       1           No   \n",
       "1  5575-GNVDE    Male              0      No         No      34          Yes   \n",
       "2  3668-QPYBK    Male              0      No         No       2          Yes   \n",
       "3  7795-CFOCW    Male              0      No         No      45           No   \n",
       "4  9237-HQITU  Female              0      No         No       2          Yes   \n",
       "\n",
       "      MultipleLines InternetService OnlineSecurity  ... DeviceProtection  \\\n",
       "0  No phone service             DSL             No  ...               No   \n",
       "1                No             DSL            Yes  ...              Yes   \n",
       "2                No             DSL            Yes  ...               No   \n",
       "3  No phone service             DSL            Yes  ...              Yes   \n",
       "4                No     Fiber optic             No  ...               No   \n",
       "\n",
       "  TechSupport StreamingTV StreamingMovies        Contract PaperlessBilling  \\\n",
       "0          No          No              No  Month-to-month              Yes   \n",
       "1          No          No              No        One year               No   \n",
       "2          No          No              No  Month-to-month              Yes   \n",
       "3         Yes          No              No        One year               No   \n",
       "4          No          No              No  Month-to-month              Yes   \n",
       "\n",
       "               PaymentMethod MonthlyCharges  TotalCharges Churn  \n",
       "0           Electronic check          29.85         29.85    No  \n",
       "1               Mailed check          56.95        1889.5    No  \n",
       "2               Mailed check          53.85        108.15   Yes  \n",
       "3  Bank transfer (automatic)          42.30       1840.75    No  \n",
       "4           Electronic check          70.70        151.65   Yes  \n",
       "\n",
       "[5 rows x 21 columns]"
      ]
     },
     "execution_count": 2,
     "metadata": {},
     "output_type": "execute_result"
    }
   ],
   "source": [
    "import pandas as pd\n",
    "\n",
    "dataset = pd.read_csv(\"../data/WA_Fn-UseC_-Telco-Customer-Churn.csv\")\n",
    "\n",
    "pd.set_option(\"max_colwidth\", 200)\n",
    "\n",
    "dataset.head(5)"
   ]
  },
  {
   "cell_type": "code",
   "execution_count": 3,
   "id": "d184f419",
   "metadata": {},
   "outputs": [
    {
     "data": {
      "text/plain": [
       "np.float64(0.1621468124378816)"
      ]
     },
     "execution_count": 3,
     "metadata": {},
     "output_type": "execute_result"
    }
   ],
   "source": [
    "import pandas as pd\n",
    "from langchain_core.prompts import ChatPromptTemplate\n",
    "from langchain_experimental.tools import PythonAstREPLTool\n",
    "\n",
    "df = pd.read_csv(\"../data/WA_Fn-UseC_-Telco-Customer-Churn.csv\")\n",
    "tool = PythonAstREPLTool(locals={\"df\": df})\n",
    "tool.invoke(\"df['SeniorCitizen'].mean()\")"
   ]
  },
  {
   "cell_type": "code",
   "execution_count": 4,
   "id": "690c401b",
   "metadata": {},
   "outputs": [
    {
     "data": {
      "text/plain": [
       "np.float64(64.76169246059918)"
      ]
     },
     "execution_count": 4,
     "metadata": {},
     "output_type": "execute_result"
    }
   ],
   "source": [
    "df[\"MonthlyCharges\"].mean()"
   ]
  },
  {
   "cell_type": "code",
   "execution_count": 13,
   "id": "6c69dedf",
   "metadata": {},
   "outputs": [
    {
     "ename": "ValueError",
     "evalue": "Arg Precedence for the tool description value is as follows in docstring not found in function signature.",
     "output_type": "error",
     "traceback": [
      "\u001b[31m---------------------------------------------------------------------------\u001b[39m",
      "\u001b[31mValueError\u001b[39m                                Traceback (most recent call last)",
      "\u001b[36mCell\u001b[39m\u001b[36m \u001b[39m\u001b[32mIn[13]\u001b[39m\u001b[32m, line 10\u001b[39m\n\u001b[32m      1\u001b[39m \u001b[38;5;28;01mfrom\u001b[39;00m\u001b[38;5;250m \u001b[39m\u001b[34;01mlangchain\u001b[39;00m\u001b[34;01m.\u001b[39;00m\u001b[34;01mchat_models\u001b[39;00m\u001b[38;5;250m \u001b[39m\u001b[38;5;28;01mimport\u001b[39;00m init_chat_model\n\u001b[32m      3\u001b[39m model = init_chat_model(\n\u001b[32m      4\u001b[39m     model=\u001b[33m\"\u001b[39m\u001b[33mdeepseek-v3\u001b[39m\u001b[33m\"\u001b[39m,\n\u001b[32m      5\u001b[39m     model_provider=\u001b[33m\"\u001b[39m\u001b[33mopenai\u001b[39m\u001b[33m\"\u001b[39m,\n\u001b[32m      6\u001b[39m     api_key=DASHSCOPE_API_KEY,\n\u001b[32m      7\u001b[39m     base_url=\u001b[33m\"\u001b[39m\u001b[33mhttps://dashscope.aliyuncs.com/compatible-mode/v1\u001b[39m\u001b[33m\"\u001b[39m,\n\u001b[32m      8\u001b[39m )\n\u001b[32m---> \u001b[39m\u001b[32m10\u001b[39m llm_with_tools = \u001b[43mmodel\u001b[49m\u001b[43m.\u001b[49m\u001b[43mbind_tools\u001b[49m\u001b[43m(\u001b[49m\u001b[43m[\u001b[49m\u001b[43mtool\u001b[49m\u001b[43m]\u001b[49m\u001b[43m)\u001b[49m\n",
      "\u001b[36mFile \u001b[39m\u001b[32md:\\Files\\codes\\python_projects\\jiutian-langchain-corse\\.venv\\Lib\\site-packages\\langchain_openai\\chat_models\\base.py:1652\u001b[39m, in \u001b[36mBaseChatOpenAI.bind_tools\u001b[39m\u001b[34m(self, tools, tool_choice, strict, parallel_tool_calls, **kwargs)\u001b[39m\n\u001b[32m   1649\u001b[39m \u001b[38;5;28;01mif\u001b[39;00m parallel_tool_calls \u001b[38;5;129;01mis\u001b[39;00m \u001b[38;5;129;01mnot\u001b[39;00m \u001b[38;5;28;01mNone\u001b[39;00m:\n\u001b[32m   1650\u001b[39m     kwargs[\u001b[33m\"\u001b[39m\u001b[33mparallel_tool_calls\u001b[39m\u001b[33m\"\u001b[39m] = parallel_tool_calls\n\u001b[32m   1651\u001b[39m formatted_tools = [\n\u001b[32m-> \u001b[39m\u001b[32m1652\u001b[39m     \u001b[43mconvert_to_openai_tool\u001b[49m\u001b[43m(\u001b[49m\u001b[43mtool\u001b[49m\u001b[43m,\u001b[49m\u001b[43m \u001b[49m\u001b[43mstrict\u001b[49m\u001b[43m=\u001b[49m\u001b[43mstrict\u001b[49m\u001b[43m)\u001b[49m \u001b[38;5;28;01mfor\u001b[39;00m tool \u001b[38;5;129;01min\u001b[39;00m tools\n\u001b[32m   1653\u001b[39m ]\n\u001b[32m   1654\u001b[39m tool_names = []\n\u001b[32m   1655\u001b[39m \u001b[38;5;28;01mfor\u001b[39;00m tool \u001b[38;5;129;01min\u001b[39;00m formatted_tools:\n",
      "\u001b[36mFile \u001b[39m\u001b[32md:\\Files\\codes\\python_projects\\jiutian-langchain-corse\\.venv\\Lib\\site-packages\\langchain_core\\utils\\function_calling.py:586\u001b[39m, in \u001b[36mconvert_to_openai_tool\u001b[39m\u001b[34m(tool, strict)\u001b[39m\n\u001b[32m    584\u001b[39m     \u001b[38;5;28;01mif\u001b[39;00m (tool.get(\u001b[33m\"\u001b[39m\u001b[33mtype\u001b[39m\u001b[33m\"\u001b[39m) \u001b[38;5;129;01mor\u001b[39;00m \u001b[33m\"\u001b[39m\u001b[33m\"\u001b[39m).startswith(\u001b[33m\"\u001b[39m\u001b[33mweb_search_preview\u001b[39m\u001b[33m\"\u001b[39m):\n\u001b[32m    585\u001b[39m         \u001b[38;5;28;01mreturn\u001b[39;00m tool\n\u001b[32m--> \u001b[39m\u001b[32m586\u001b[39m oai_function = \u001b[43mconvert_to_openai_function\u001b[49m\u001b[43m(\u001b[49m\u001b[43mtool\u001b[49m\u001b[43m,\u001b[49m\u001b[43m \u001b[49m\u001b[43mstrict\u001b[49m\u001b[43m=\u001b[49m\u001b[43mstrict\u001b[49m\u001b[43m)\u001b[49m\n\u001b[32m    587\u001b[39m \u001b[38;5;28;01mreturn\u001b[39;00m {\u001b[33m\"\u001b[39m\u001b[33mtype\u001b[39m\u001b[33m\"\u001b[39m: \u001b[33m\"\u001b[39m\u001b[33mfunction\u001b[39m\u001b[33m\"\u001b[39m, \u001b[33m\"\u001b[39m\u001b[33mfunction\u001b[39m\u001b[33m\"\u001b[39m: oai_function}\n",
      "\u001b[36mFile \u001b[39m\u001b[32md:\\Files\\codes\\python_projects\\jiutian-langchain-corse\\.venv\\Lib\\site-packages\\langchain_core\\utils\\function_calling.py:479\u001b[39m, in \u001b[36mconvert_to_openai_function\u001b[39m\u001b[34m(function, strict)\u001b[39m\n\u001b[32m    476\u001b[39m     oai_function = cast(\u001b[33m\"\u001b[39m\u001b[33mdict\u001b[39m\u001b[33m\"\u001b[39m, _format_tool_to_openai_function(function))\n\u001b[32m    477\u001b[39m \u001b[38;5;28;01melif\u001b[39;00m \u001b[38;5;28mcallable\u001b[39m(function):\n\u001b[32m    478\u001b[39m     oai_function = cast(\n\u001b[32m--> \u001b[39m\u001b[32m479\u001b[39m         \u001b[33m\"\u001b[39m\u001b[33mdict\u001b[39m\u001b[33m\"\u001b[39m, \u001b[43m_convert_python_function_to_openai_function\u001b[49m\u001b[43m(\u001b[49m\u001b[43mfunction\u001b[49m\u001b[43m)\u001b[49m\n\u001b[32m    480\u001b[39m     )\n\u001b[32m    481\u001b[39m \u001b[38;5;28;01melse\u001b[39;00m:\n\u001b[32m    482\u001b[39m     msg = (\n\u001b[32m    483\u001b[39m         \u001b[33mf\u001b[39m\u001b[33m\"\u001b[39m\u001b[33mUnsupported function\u001b[39m\u001b[38;5;130;01m\\n\u001b[39;00m\u001b[38;5;130;01m\\n\u001b[39;00m\u001b[38;5;132;01m{\u001b[39;00mfunction\u001b[38;5;132;01m}\u001b[39;00m\u001b[38;5;130;01m\\n\u001b[39;00m\u001b[38;5;130;01m\\n\u001b[39;00m\u001b[33mFunctions must be passed in\u001b[39m\u001b[33m\"\u001b[39m\n\u001b[32m    484\u001b[39m         \u001b[33m\"\u001b[39m\u001b[33m as Dict, pydantic.BaseModel, or Callable. If they\u001b[39m\u001b[33m'\u001b[39m\u001b[33mre a dict they must\u001b[39m\u001b[33m\"\u001b[39m\n\u001b[32m    485\u001b[39m         \u001b[33m\"\u001b[39m\u001b[33m either be in OpenAI function format or valid JSON schema with top-level\u001b[39m\u001b[33m\"\u001b[39m\n\u001b[32m    486\u001b[39m         \u001b[33m\"\u001b[39m\u001b[33m \u001b[39m\u001b[33m'\u001b[39m\u001b[33mtitle\u001b[39m\u001b[33m'\u001b[39m\u001b[33m and \u001b[39m\u001b[33m'\u001b[39m\u001b[33mdescription\u001b[39m\u001b[33m'\u001b[39m\u001b[33m keys.\u001b[39m\u001b[33m\"\u001b[39m\n\u001b[32m    487\u001b[39m     )\n",
      "\u001b[36mFile \u001b[39m\u001b[32md:\\Files\\codes\\python_projects\\jiutian-langchain-corse\\.venv\\Lib\\site-packages\\langchain_core\\utils\\function_calling.py:223\u001b[39m, in \u001b[36m_convert_python_function_to_openai_function\u001b[39m\u001b[34m(function)\u001b[39m\n\u001b[32m    220\u001b[39m \u001b[38;5;28;01mfrom\u001b[39;00m\u001b[38;5;250m \u001b[39m\u001b[34;01mlangchain_core\u001b[39;00m\u001b[34;01m.\u001b[39;00m\u001b[34;01mtools\u001b[39;00m\u001b[34;01m.\u001b[39;00m\u001b[34;01mbase\u001b[39;00m\u001b[38;5;250m \u001b[39m\u001b[38;5;28;01mimport\u001b[39;00m create_schema_from_function\n\u001b[32m    222\u001b[39m func_name = _get_python_function_name(function)\n\u001b[32m--> \u001b[39m\u001b[32m223\u001b[39m model = \u001b[43mcreate_schema_from_function\u001b[49m\u001b[43m(\u001b[49m\n\u001b[32m    224\u001b[39m \u001b[43m    \u001b[49m\u001b[43mfunc_name\u001b[49m\u001b[43m,\u001b[49m\n\u001b[32m    225\u001b[39m \u001b[43m    \u001b[49m\u001b[43mfunction\u001b[49m\u001b[43m,\u001b[49m\n\u001b[32m    226\u001b[39m \u001b[43m    \u001b[49m\u001b[43mfilter_args\u001b[49m\u001b[43m=\u001b[49m\u001b[43m(\u001b[49m\u001b[43m)\u001b[49m\u001b[43m,\u001b[49m\n\u001b[32m    227\u001b[39m \u001b[43m    \u001b[49m\u001b[43mparse_docstring\u001b[49m\u001b[43m=\u001b[49m\u001b[38;5;28;43;01mTrue\u001b[39;49;00m\u001b[43m,\u001b[49m\n\u001b[32m    228\u001b[39m \u001b[43m    \u001b[49m\u001b[43merror_on_invalid_docstring\u001b[49m\u001b[43m=\u001b[49m\u001b[38;5;28;43;01mFalse\u001b[39;49;00m\u001b[43m,\u001b[49m\n\u001b[32m    229\u001b[39m \u001b[43m    \u001b[49m\u001b[43minclude_injected\u001b[49m\u001b[43m=\u001b[49m\u001b[38;5;28;43;01mFalse\u001b[39;49;00m\u001b[43m,\u001b[49m\n\u001b[32m    230\u001b[39m \u001b[43m\u001b[49m\u001b[43m)\u001b[49m\n\u001b[32m    231\u001b[39m \u001b[38;5;28;01mreturn\u001b[39;00m _convert_pydantic_to_openai_function(\n\u001b[32m    232\u001b[39m     model,\n\u001b[32m    233\u001b[39m     name=func_name,\n\u001b[32m    234\u001b[39m     description=model.\u001b[34m__doc__\u001b[39m,\n\u001b[32m    235\u001b[39m )\n",
      "\u001b[36mFile \u001b[39m\u001b[32md:\\Files\\codes\\python_projects\\jiutian-langchain-corse\\.venv\\Lib\\site-packages\\langchain_core\\tools\\base.py:350\u001b[39m, in \u001b[36mcreate_schema_from_function\u001b[39m\u001b[34m(model_name, func, filter_args, parse_docstring, error_on_invalid_docstring, include_injected)\u001b[39m\n\u001b[32m    345\u001b[39m         \u001b[38;5;28;01mif\u001b[39;00m \u001b[38;5;129;01mnot\u001b[39;00m include_injected \u001b[38;5;129;01mand\u001b[39;00m _is_injected_arg_type(\n\u001b[32m    346\u001b[39m             sig.parameters[existing_param].annotation\n\u001b[32m    347\u001b[39m         ):\n\u001b[32m    348\u001b[39m             filter_args_.append(existing_param)\n\u001b[32m--> \u001b[39m\u001b[32m350\u001b[39m description, arg_descriptions = \u001b[43m_infer_arg_descriptions\u001b[49m\u001b[43m(\u001b[49m\n\u001b[32m    351\u001b[39m \u001b[43m    \u001b[49m\u001b[43mfunc\u001b[49m\u001b[43m,\u001b[49m\n\u001b[32m    352\u001b[39m \u001b[43m    \u001b[49m\u001b[43mparse_docstring\u001b[49m\u001b[43m=\u001b[49m\u001b[43mparse_docstring\u001b[49m\u001b[43m,\u001b[49m\n\u001b[32m    353\u001b[39m \u001b[43m    \u001b[49m\u001b[43merror_on_invalid_docstring\u001b[49m\u001b[43m=\u001b[49m\u001b[43merror_on_invalid_docstring\u001b[49m\u001b[43m,\u001b[49m\n\u001b[32m    354\u001b[39m \u001b[43m\u001b[49m\u001b[43m)\u001b[49m\n\u001b[32m    355\u001b[39m \u001b[38;5;66;03m# Pydantic adds placeholder virtual fields we need to strip\u001b[39;00m\n\u001b[32m    356\u001b[39m valid_properties = []\n",
      "\u001b[36mFile \u001b[39m\u001b[32md:\\Files\\codes\\python_projects\\jiutian-langchain-corse\\.venv\\Lib\\site-packages\\langchain_core\\tools\\base.py:208\u001b[39m, in \u001b[36m_infer_arg_descriptions\u001b[39m\u001b[34m(fn, parse_docstring, error_on_invalid_docstring)\u001b[39m\n\u001b[32m    206\u001b[39m     arg_descriptions = {}\n\u001b[32m    207\u001b[39m \u001b[38;5;28;01mif\u001b[39;00m parse_docstring:\n\u001b[32m--> \u001b[39m\u001b[32m208\u001b[39m     \u001b[43m_validate_docstring_args_against_annotations\u001b[49m\u001b[43m(\u001b[49m\u001b[43marg_descriptions\u001b[49m\u001b[43m,\u001b[49m\u001b[43m \u001b[49m\u001b[43mannotations\u001b[49m\u001b[43m)\u001b[49m\n\u001b[32m    209\u001b[39m \u001b[38;5;28;01mfor\u001b[39;00m arg, arg_type \u001b[38;5;129;01min\u001b[39;00m annotations.items():\n\u001b[32m    210\u001b[39m     \u001b[38;5;28;01mif\u001b[39;00m arg \u001b[38;5;129;01min\u001b[39;00m arg_descriptions:\n",
      "\u001b[36mFile \u001b[39m\u001b[32md:\\Files\\codes\\python_projects\\jiutian-langchain-corse\\.venv\\Lib\\site-packages\\langchain_core\\tools\\base.py:180\u001b[39m, in \u001b[36m_validate_docstring_args_against_annotations\u001b[39m\u001b[34m(arg_descriptions, annotations)\u001b[39m\n\u001b[32m    178\u001b[39m \u001b[38;5;28;01mif\u001b[39;00m docstring_arg \u001b[38;5;129;01mnot\u001b[39;00m \u001b[38;5;129;01min\u001b[39;00m annotations:\n\u001b[32m    179\u001b[39m     msg = \u001b[33mf\u001b[39m\u001b[33m\"\u001b[39m\u001b[33mArg \u001b[39m\u001b[38;5;132;01m{\u001b[39;00mdocstring_arg\u001b[38;5;132;01m}\u001b[39;00m\u001b[33m in docstring not found in function signature.\u001b[39m\u001b[33m\"\u001b[39m\n\u001b[32m--> \u001b[39m\u001b[32m180\u001b[39m     \u001b[38;5;28;01mraise\u001b[39;00m \u001b[38;5;167;01mValueError\u001b[39;00m(msg)\n",
      "\u001b[31mValueError\u001b[39m: Arg Precedence for the tool description value is as follows in docstring not found in function signature."
     ]
    }
   ],
   "source": [
    "from langchain.chat_models import init_chat_model\n",
    "\n",
    "model = init_chat_model(\n",
    "    model=\"deepseek-v3\",\n",
    "    model_provider=\"openai\",\n",
    "    api_key=DASHSCOPE_API_KEY,\n",
    "    base_url=\"https://dashscope.aliyuncs.com/compatible-mode/v1\",\n",
    ")\n",
    "\n",
    "llm_with_tools = model.bind_tools([tool])"
   ]
  },
  {
   "cell_type": "code",
   "execution_count": 7,
   "id": "01669c6d",
   "metadata": {},
   "outputs": [
    {
     "data": {
      "text/plain": [
       "AIMessage(content='', additional_kwargs={'tool_calls': [{'id': 'call_22ac5e3234af4d47b1c828', 'function': {'arguments': '{\"query\":\"df[\\'MonthlyCharges\\'].mean()\"}', 'name': 'python_repl_ast'}, 'type': 'function', 'index': 0}], 'refusal': None}, response_metadata={'token_usage': {'completion_tokens': 29, 'prompt_tokens': 206, 'total_tokens': 235, 'completion_tokens_details': None, 'prompt_tokens_details': None}, 'model_name': 'deepseek-v3', 'system_fingerprint': None, 'id': 'chatcmpl-89c563b6-4c87-909e-b6d2-043cbeb8da1d', 'service_tier': None, 'finish_reason': 'tool_calls', 'logprobs': None}, id='run--9c9d4032-2efc-4528-b651-f126a41a05ee-0', tool_calls=[{'name': 'python_repl_ast', 'args': {'query': \"df['MonthlyCharges'].mean()\"}, 'id': 'call_22ac5e3234af4d47b1c828', 'type': 'tool_call'}], usage_metadata={'input_tokens': 206, 'output_tokens': 29, 'total_tokens': 235, 'input_token_details': {}, 'output_token_details': {}})"
      ]
     },
     "execution_count": 7,
     "metadata": {},
     "output_type": "execute_result"
    }
   ],
   "source": [
    "response = llm_with_tools.invoke(\n",
    "    \"我有一张表,名为'df'，请帮我计算MonthlyCharges字段的均值.\"\n",
    ")\n",
    "response"
   ]
  },
  {
   "cell_type": "code",
   "execution_count": 2,
   "id": "e9c8b2ce",
   "metadata": {},
   "outputs": [],
   "source": [
    "import requests\n",
    "import json\n",
    "\n",
    "\n",
    "def get_weather(loc):\n",
    "    \"\"\" 查询即时天气函数\n",
    "    :param loc: 必要参数，字符串类型，用户查询天气的具体城市名称，\\\n",
    "    注意，中国的城市需要用对应成是的英文名称代替，例如查询北京市额天气，则loc参数需要输入'Beijing'\n",
    "    :return: OpenWeather API 查询即时天气的结果，具体URL请求地址为: https://api.openweathermap.org/data/2.5/weather\\\n",
    "    返回结果对象类型为解析后的JSON格式对象，并用字符串的形式表示，其中包含了全部重要的天气信息\n",
    "    \"\"\"\n",
    "    url = \"https://api.openweathermap.org/data/2.5/weather\"\n",
    "\n",
    "    params = {\n",
    "        \"q\": loc,\n",
    "        \"appid\": os.getenv(\"OPENWEATHER_API_KEY\"),\n",
    "        \"units\": \"metric\",\n",
    "        \"lang\": \"zh_cn\",\n",
    "    }\n",
    "\n",
    "    response = requests.get(url, params=params)\n",
    "\n",
    "    data = response.json()\n",
    "\n",
    "    return json.dumps(data)"
   ]
  },
  {
   "cell_type": "code",
   "execution_count": 7,
   "id": "d4da8171",
   "metadata": {},
   "outputs": [
    {
     "data": {
      "text/plain": [
       "'{\"coord\": {\"lon\": 116.3972, \"lat\": 39.9075}, \"weather\": [{\"id\": 802, \"main\": \"Clouds\", \"description\": \"\\\\u591a\\\\u4e91\", \"icon\": \"03d\"}], \"base\": \"stations\", \"main\": {\"temp\": 33.94, \"feels_like\": 35.08, \"temp_min\": 33.94, \"temp_max\": 33.94, \"pressure\": 999, \"humidity\": 39, \"sea_level\": 999, \"grnd_level\": 993}, \"visibility\": 10000, \"wind\": {\"speed\": 2.56, \"deg\": 227, \"gust\": 2.38}, \"clouds\": {\"all\": 49}, \"dt\": 1752480268, \"sys\": {\"type\": 1, \"id\": 9609, \"country\": \"CN\", \"sunrise\": 1752440238, \"sunset\": 1752493365}, \"timezone\": 28800, \"id\": 1816670, \"name\": \"Beijing\", \"cod\": 200}'"
      ]
     },
     "execution_count": 7,
     "metadata": {},
     "output_type": "execute_result"
    }
   ],
   "source": [
    "get_weather(\"Beijing\")"
   ]
  },
  {
   "cell_type": "code",
   "execution_count": 3,
   "id": "ba944d62",
   "metadata": {},
   "outputs": [],
   "source": [
    "from langchain_core.tools import tool\n",
    "\n",
    "\n",
    "@tool\n",
    "def get_weather_tool(loc):\n",
    "    \"\"\" 查询即时天气函数\n",
    "    :param loc: 必要参数，字符串类型，用户查询天气的具体城市名称，\\\n",
    "    注意，中国的城市需要用对应成是的英文名称代替，例如查询北京市额天气，则loc参数需要输入'Beijing'\n",
    "    :return: OpenWeather API 查询即时天气的结果，具体URL请求地址为: https://api.openweathermap.org/data/2.5/weather\\\n",
    "    返回结果对象类型为解析后的JSON格式对象，并用字符串的形式表示，其中包含了全部重要的天气信息\n",
    "    \"\"\"\n",
    "    return get_weather(loc)"
   ]
  },
  {
   "cell_type": "code",
   "execution_count": 9,
   "id": "14107c39",
   "metadata": {},
   "outputs": [
    {
     "name": "stdout",
     "output_type": "stream",
     "text": [
      "get_weather_tool\n",
      "查询即时天气函数\n",
      "   :param loc: 必要参数，字符串类型，用户查询天气的具体城市名称，    注意，中国的城市需要用对应成是的英文名称代替，例如查询北京市额天气，则loc参数需要输入'Beijing'\n",
      "   :return: OpenWeather API 查询即时天气的结果，具体URL请求地址为: https://api.openweathermap.org/data/2.5/weather    返回结果对象类型为解析后的JSON格式对象，并用字符串的形式表示，其中包含了全部重要的天气信息\n",
      "{'loc': {'title': 'Loc'}}\n"
     ]
    }
   ],
   "source": [
    "print(get_weather_tool.name)\n",
    "print(get_weather_tool.description)\n",
    "print(get_weather_tool.args)"
   ]
  },
  {
   "cell_type": "code",
   "execution_count": 7,
   "id": "935a8794",
   "metadata": {},
   "outputs": [],
   "source": [
    "from langchain.chat_models import init_chat_model\n",
    "\n",
    "model = init_chat_model(\n",
    "    model=\"deepseek-v3\",\n",
    "    model_provider=\"openai\",\n",
    "    api_key=DASHSCOPE_API_KEY,\n",
    "    base_url=\"https://dashscope.aliyuncs.com/compatible-mode/v1\",\n",
    ")\n",
    "\n",
    "tools = [get_weather_tool]\n",
    "\n",
    "llm_with_tools = model.bind_tools(tools)"
   ]
  },
  {
   "cell_type": "code",
   "execution_count": 8,
   "id": "9447b0fc",
   "metadata": {},
   "outputs": [
    {
     "data": {
      "text/plain": [
       "AIMessage(content='', additional_kwargs={'tool_calls': [{'id': 'call_01ce6c7ecf13439baed8b6', 'function': {'arguments': '{\"loc\":\"Chengdu\"}', 'name': 'get_weather_tool'}, 'type': 'function', 'index': 0}], 'refusal': None}, response_metadata={'token_usage': {'completion_tokens': 23, 'prompt_tokens': 245, 'total_tokens': 268, 'completion_tokens_details': None, 'prompt_tokens_details': None}, 'model_name': 'deepseek-v3', 'system_fingerprint': None, 'id': 'chatcmpl-faba23e5-676d-9638-8344-86c358df460b', 'service_tier': None, 'finish_reason': 'tool_calls', 'logprobs': None}, id='run--7adc58e2-6199-426f-8248-03b56dff2198-0', tool_calls=[{'name': 'get_weather_tool', 'args': {'loc': 'Chengdu'}, 'id': 'call_01ce6c7ecf13439baed8b6', 'type': 'tool_call'}], usage_metadata={'input_tokens': 245, 'output_tokens': 23, 'total_tokens': 268, 'input_token_details': {}, 'output_token_details': {}})"
      ]
     },
     "execution_count": 8,
     "metadata": {},
     "output_type": "execute_result"
    }
   ],
   "source": [
    "response = llm_with_tools.invoke(\"你好，请问成都的天气怎么样？\")\n",
    "response"
   ]
  },
  {
   "cell_type": "code",
   "execution_count": 9,
   "id": "14bf1e6b",
   "metadata": {},
   "outputs": [
    {
     "data": {
      "text/plain": [
       "{'tool_calls': [{'id': 'call_01ce6c7ecf13439baed8b6',\n",
       "   'function': {'arguments': '{\"loc\":\"Chengdu\"}', 'name': 'get_weather_tool'},\n",
       "   'type': 'function',\n",
       "   'index': 0}],\n",
       " 'refusal': None}"
      ]
     },
     "execution_count": 9,
     "metadata": {},
     "output_type": "execute_result"
    }
   ],
   "source": [
    "response.additional_kwargs"
   ]
  },
  {
   "cell_type": "code",
   "execution_count": 10,
   "id": "b995f35e",
   "metadata": {},
   "outputs": [
    {
     "data": {
      "text/plain": [
       "{'loc': 'Chengdu'}"
      ]
     },
     "execution_count": 10,
     "metadata": {},
     "output_type": "execute_result"
    }
   ],
   "source": [
    "from langchain_core.output_parsers.openai_tools import JsonOutputKeyToolsParser\n",
    "\n",
    "parser = JsonOutputKeyToolsParser(key_name=get_weather_tool.name, first_tool_only=True)\n",
    "\n",
    "llm_chain = llm_with_tools | parser\n",
    "\n",
    "llm_chain.invoke(\"你好，请问成都天气怎么样？\")"
   ]
  },
  {
   "cell_type": "code",
   "execution_count": 11,
   "id": "c9a24aee",
   "metadata": {},
   "outputs": [
    {
     "data": {
      "text/plain": [
       "'{\"coord\": {\"lon\": 7.511, \"lat\": 46.2932}, \"weather\": [{\"id\": 803, \"main\": \"Clouds\", \"description\": \"\\\\u591a\\\\u4e91\", \"icon\": \"04d\"}], \"base\": \"stations\", \"main\": {\"temp\": 18.99, \"feels_like\": 19.4, \"temp_min\": 17.81, \"temp_max\": 19.23, \"pressure\": 1020, \"humidity\": 94, \"sea_level\": 1020, \"grnd_level\": 834}, \"visibility\": 10000, \"wind\": {\"speed\": 1.54, \"deg\": 230}, \"clouds\": {\"all\": 75}, \"dt\": 1752481120, \"sys\": {\"type\": 2, \"id\": 2007357, \"country\": \"CH\", \"sunrise\": 1752465103, \"sunset\": 1752520770}, \"timezone\": 7200, \"id\": 2658576, \"name\": \"Loc\", \"cod\": 200}'"
      ]
     },
     "execution_count": 11,
     "metadata": {},
     "output_type": "execute_result"
    }
   ],
   "source": [
    "get_weather_chain = llm_with_tools | parser | get_weather\n",
    "\n",
    "get_weather_chain.invoke(\"你好，请问成都天气怎么样？\")"
   ]
  },
  {
   "cell_type": "code",
   "execution_count": 25,
   "id": "2bb5acf7",
   "metadata": {},
   "outputs": [],
   "source": [
    "from langchain.prompts import PromptTemplate\n",
    "from langchain_core.output_parsers import StrOutputParser\n",
    "\n",
    "output_prompt = PromptTemplate.from_template(\n",
    "    \"\"\"你将收到一段 JSON 格式的天气数据，请用简洁自然的方式将其转述给用户。\n",
    "以下是天气 JSON 数据：\n",
    "\n",
    "```json\n",
    "{weather_json}\n",
    "```\n",
    "\n",
    "请将其转换为中文天气描述，例如：\n",
    "“北京当前天气晴，气温为 23°C，湿度 58%，风速 2.1 米/秒。”\n",
    "只返回一句话描述，不要其他说明或解释。\"\"\"\n",
    ")\n",
    "\n",
    "output_chain = output_prompt | model | StrOutputParser()"
   ]
  },
  {
   "cell_type": "code",
   "execution_count": 13,
   "id": "f0ab5ef3",
   "metadata": {},
   "outputs": [
    {
     "data": {
      "text/plain": [
       "'洛当前天气多云，气温为18.99°C，湿度94%，风速1.54米/秒。'"
      ]
     },
     "execution_count": 13,
     "metadata": {},
     "output_type": "execute_result"
    }
   ],
   "source": [
    "weather_json = '{\"coord\": {\"lon\": 7.511, \"lat\": 46.2932}, \"weather\": [{\"id\": 803, \"main\": \"Clouds\", \"description\": \"\\\\u591a\\\\u4e91\", \"icon\": \"04d\"}], \"base\": \"stations\", \"main\": {\"temp\": 18.99, \"feels_like\": 19.4, \"temp_min\": 17.81, \"temp_max\": 19.23, \"pressure\": 1020, \"humidity\": 94, \"sea_level\": 1020, \"grnd_level\": 834}, \"visibility\": 10000, \"wind\": {\"speed\": 1.54, \"deg\": 230}, \"clouds\": {\"all\": 75}, \"dt\": 1752481120, \"sys\": {\"type\": 2, \"id\": 2007357, \"country\": \"CH\", \"sunrise\": 1752465103, \"sunset\": 1752520770}, \"timezone\": 7200, \"id\": 2658576, \"name\": \"Loc\", \"cod\": 200}'\n",
    "\n",
    "result = output_chain.invoke({\"weather_json\": weather_json})\n",
    "result"
   ]
  },
  {
   "cell_type": "code",
   "execution_count": 26,
   "id": "988861f8",
   "metadata": {},
   "outputs": [
    {
     "data": {
      "text/plain": [
       "'洛当前天气多云，气温为 19°C，体感温度 19°C，湿度 92%，风速 0.51 米/秒。'"
      ]
     },
     "execution_count": 26,
     "metadata": {},
     "output_type": "execute_result"
    }
   ],
   "source": [
    "full_chain = get_weather_chain | output_chain\n",
    "\n",
    "full_chain.invoke(\"你好，请问成都天气怎么样？\")"
   ]
  },
  {
   "cell_type": "markdown",
   "id": "c221a9aa",
   "metadata": {},
   "source": [
    "## 用 Agent 来使用 tool 更简单"
   ]
  },
  {
   "cell_type": "code",
   "execution_count": 27,
   "id": "5a8b5236",
   "metadata": {},
   "outputs": [],
   "source": [
    "from langchain.agents import create_tool_calling_agent, tool\n",
    "\n",
    "tools = [get_weather_tool]\n",
    "\n",
    "prompt = ChatPromptTemplate.from_messages(\n",
    "    [\n",
    "        (\"system\", \"你是天气助手，请根据用户的问题，给出相应的天气信息\"),\n",
    "        (\"human\", \"{input}\"),\n",
    "        (\"placeholder\", \"{agent_scratchpad}\"),\n",
    "    ]\n",
    ")\n",
    "\n",
    "model = init_chat_model(\n",
    "    model=\"deepseek-v3\",\n",
    "    model_provider=\"openai\",\n",
    "    api_key=DASHSCOPE_API_KEY,\n",
    "    base_url=\"https://dashscope.aliyuncs.com/compatible-mode/v1\",\n",
    ")\n",
    "\n",
    "agent = create_tool_calling_agent(model, tools, prompt)"
   ]
  },
  {
   "cell_type": "code",
   "execution_count": 28,
   "id": "989cd4aa",
   "metadata": {},
   "outputs": [
    {
     "name": "stdout",
     "output_type": "stream",
     "text": [
      "\n",
      "\n",
      "\u001b[1m> Entering new AgentExecutor chain...\u001b[0m\n",
      "\u001b[32;1m\u001b[1;3m\n",
      "Invoking: `get_weather_tool` with `{'loc': 'Chengdu'}`\n",
      "\n",
      "\n",
      "\u001b[0m\u001b[36;1m\u001b[1;3m{\"coord\": {\"lon\": 104.0667, \"lat\": 30.6667}, \"weather\": [{\"id\": 802, \"main\": \"Clouds\", \"description\": \"\\u591a\\u4e91\", \"icon\": \"03d\"}], \"base\": \"stations\", \"main\": {\"temp\": 35.94, \"feels_like\": 42.54, \"temp_min\": 35.94, \"temp_max\": 35.94, \"pressure\": 1000, \"humidity\": 49, \"sea_level\": 1000, \"grnd_level\": 942}, \"visibility\": 10000, \"wind\": {\"speed\": 3, \"deg\": 0}, \"clouds\": {\"all\": 40}, \"dt\": 1752483158, \"sys\": {\"type\": 1, \"id\": 9674, \"country\": \"CN\", \"sunrise\": 1752444629, \"sunset\": 1752494894}, \"timezone\": 28800, \"id\": 1815286, \"name\": \"Chengdu\", \"cod\": 200}\u001b[0m\u001b[32;1m\u001b[1;3m成都今天的天气是多云，当前温度为35.94℃，体感温度为42.54℃。湿度为49%，气压为1000 hPa。风速为3 m/s，风向为0度（北风）。能见度为10公里。今天的日出时间为早上7点10分，日落时间为晚上7点48分。\u001b[0m\n",
      "\n",
      "\u001b[1m> Finished chain.\u001b[0m\n"
     ]
    },
    {
     "data": {
      "text/plain": [
       "{'input': '请问成都今天的天气怎么样？',\n",
       " 'output': '成都今天的天气是多云，当前温度为35.94℃，体感温度为42.54℃。湿度为49%，气压为1000 hPa。风速为3 m/s，风向为0度（北风）。能见度为10公里。今天的日出时间为早上7点10分，日落时间为晚上7点48分。'}"
      ]
     },
     "execution_count": 28,
     "metadata": {},
     "output_type": "execute_result"
    }
   ],
   "source": [
    "from langchain.agents import AgentExecutor\n",
    "\n",
    "agent_executor = AgentExecutor(agent=agent, tools=tools, verbose=True)\n",
    "\n",
    "response = agent_executor.invoke({\"input\": \"请问成都今天的天气怎么样？\"})\n",
    "response"
   ]
  },
  {
   "cell_type": "code",
   "execution_count": 29,
   "id": "65d723d9",
   "metadata": {},
   "outputs": [
    {
     "name": "stdout",
     "output_type": "stream",
     "text": [
      "\n",
      "\n",
      "\u001b[1m> Entering new AgentExecutor chain...\u001b[0m\n",
      "\u001b[32;1m\u001b[1;3m\n",
      "Invoking: `get_weather_tool` with `{'loc': 'Beijing'}`\n",
      "\n",
      "\n",
      "\u001b[0m\u001b[36;1m\u001b[1;3m{\"coord\": {\"lon\": 116.3972, \"lat\": 39.9075}, \"weather\": [{\"id\": 802, \"main\": \"Clouds\", \"description\": \"\\u591a\\u4e91\", \"icon\": \"03d\"}], \"base\": \"stations\", \"main\": {\"temp\": 33.94, \"feels_like\": 35.58, \"temp_min\": 33.94, \"temp_max\": 33.94, \"pressure\": 999, \"humidity\": 41, \"sea_level\": 999, \"grnd_level\": 992}, \"visibility\": 10000, \"wind\": {\"speed\": 2.89, \"deg\": 229, \"gust\": 1.75}, \"clouds\": {\"all\": 50}, \"dt\": 1752483900, \"sys\": {\"type\": 1, \"id\": 9609, \"country\": \"CN\", \"sunrise\": 1752440238, \"sunset\": 1752493365}, \"timezone\": 28800, \"id\": 1816670, \"name\": \"Beijing\", \"cod\": 200}\u001b[0m\u001b[32;1m\u001b[1;3m\n",
      "Invoking: `get_weather_tool` with `{'loc': 'Hangzhou'}`\n",
      "\n",
      "\n",
      "\u001b[0m\u001b[36;1m\u001b[1;3m{\"coord\": {\"lon\": 120.1614, \"lat\": 30.2937}, \"weather\": [{\"id\": 803, \"main\": \"Clouds\", \"description\": \"\\u591a\\u4e91\", \"icon\": \"04d\"}], \"base\": \"stations\", \"main\": {\"temp\": 34.95, \"feels_like\": 41.95, \"temp_min\": 34.95, \"temp_max\": 34.95, \"pressure\": 999, \"humidity\": 64, \"sea_level\": 999, \"grnd_level\": 997}, \"visibility\": 10000, \"wind\": {\"speed\": 3.82, \"deg\": 318, \"gust\": 6.11}, \"clouds\": {\"all\": 81}, \"dt\": 1752483979, \"sys\": {\"type\": 1, \"id\": 9651, \"country\": \"CN\", \"sunrise\": 1752440816, \"sunset\": 1752490981}, \"timezone\": 28800, \"id\": 1808926, \"name\": \"Hangzhou\", \"cod\": 200}\u001b[0m\u001b[32;1m\u001b[1;3m北京的天气是多云，当前温度为33.94°C，体感温度35.58°C，湿度为41%。  \n",
      "\n",
      "杭州的天气也是多云，当前温度为34.95°C，体感温度41.95°C，湿度为64%。  \n",
      "\n",
      "从当前温度来看，**杭州比北京更热**，而且杭州的体感温度更高，湿度也较大。\u001b[0m\n",
      "\n",
      "\u001b[1m> Finished chain.\u001b[0m\n"
     ]
    },
    {
     "data": {
      "text/plain": [
       "{'input': '请问北京和杭州今天的天气怎么样？哪个城市更热？',\n",
       " 'output': '北京的天气是多云，当前温度为33.94°C，体感温度35.58°C，湿度为41%。  \\n\\n杭州的天气也是多云，当前温度为34.95°C，体感温度41.95°C，湿度为64%。  \\n\\n从当前温度来看，**杭州比北京更热**，而且杭州的体感温度更高，湿度也较大。'}"
      ]
     },
     "execution_count": 29,
     "metadata": {},
     "output_type": "execute_result"
    }
   ],
   "source": [
    "from langchain.agents import AgentExecutor\n",
    "\n",
    "agent_executor = AgentExecutor(agent=agent, tools=tools, verbose=True)\n",
    "\n",
    "response = agent_executor.invoke(\n",
    "    {\"input\": \"请问北京和杭州今天的天气怎么样？哪个城市更热？\"}\n",
    ")\n",
    "response"
   ]
  },
  {
   "cell_type": "code",
   "execution_count": 31,
   "id": "088b5b8e",
   "metadata": {},
   "outputs": [],
   "source": [
    "@tool\n",
    "def write_file(content):\n",
    "    \"\"\"\n",
    "    将指定内容写入本地文件。\n",
    "    :param content: 必要参数，字符串类型，用于表示需要写入文档的具体内容。\n",
    "    :return: 是否成功写入\n",
    "    \"\"\"\n",
    "    return \"已成功写入本地文件\""
   ]
  },
  {
   "cell_type": "code",
   "execution_count": 32,
   "id": "6f402846",
   "metadata": {},
   "outputs": [
    {
     "name": "stdout",
     "output_type": "stream",
     "text": [
      "\n",
      "\n",
      "\u001b[1m> Entering new AgentExecutor chain...\u001b[0m\n",
      "\u001b[32;1m\u001b[1;3m\n",
      "Invoking: `get_weather_tool` with `{'loc': 'Beijing'}`\n",
      "\n",
      "\n",
      "\u001b[0m\u001b[36;1m\u001b[1;3m{\"coord\": {\"lon\": 116.3972, \"lat\": 39.9075}, \"weather\": [{\"id\": 802, \"main\": \"Clouds\", \"description\": \"\\u591a\\u4e91\", \"icon\": \"03d\"}], \"base\": \"stations\", \"main\": {\"temp\": 33.94, \"feels_like\": 35.58, \"temp_min\": 33.94, \"temp_max\": 33.94, \"pressure\": 999, \"humidity\": 41, \"sea_level\": 999, \"grnd_level\": 992}, \"visibility\": 10000, \"wind\": {\"speed\": 2.89, \"deg\": 229, \"gust\": 1.75}, \"clouds\": {\"all\": 50}, \"dt\": 1752483900, \"sys\": {\"type\": 1, \"id\": 9609, \"country\": \"CN\", \"sunrise\": 1752440238, \"sunset\": 1752493365}, \"timezone\": 28800, \"id\": 1816670, \"name\": \"Beijing\", \"cod\": 200}\u001b[0m\u001b[32;1m\u001b[1;3m\n",
      "Invoking: `get_weather_tool` with `{'loc': 'Hangzhou'}`\n",
      "\n",
      "\n",
      "\u001b[0m\u001b[36;1m\u001b[1;3m{\"coord\": {\"lon\": 120.1614, \"lat\": 30.2937}, \"weather\": [{\"id\": 803, \"main\": \"Clouds\", \"description\": \"\\u591a\\u4e91\", \"icon\": \"04d\"}], \"base\": \"stations\", \"main\": {\"temp\": 34.95, \"feels_like\": 41.95, \"temp_min\": 34.95, \"temp_max\": 34.95, \"pressure\": 999, \"humidity\": 64, \"sea_level\": 999, \"grnd_level\": 997}, \"visibility\": 10000, \"wind\": {\"speed\": 3.82, \"deg\": 318, \"gust\": 6.11}, \"clouds\": {\"all\": 81}, \"dt\": 1752483979, \"sys\": {\"type\": 1, \"id\": 9651, \"country\": \"CN\", \"sunrise\": 1752440816, \"sunset\": 1752490981}, \"timezone\": 28800, \"id\": 1808926, \"name\": \"Hangzhou\", \"cod\": 200}\u001b[0m\u001b[32;1m\u001b[1;3m\n",
      "Invoking: `write_file` with `{'content': '北京现在的天气：多云，温度33.94°C，体感温度35.58°C，湿度41%，风速2.89m/s。\\n杭州现在的天气：多云，温度34.95°C，体感温度41.95°C，湿度64%，风速3.82m/s。'}`\n",
      "\n",
      "\n",
      "\u001b[0m\u001b[33;1m\u001b[1;3m已成功写入本地文件\u001b[0m\u001b[32;1m\u001b[1;3m北京现在的天气：多云，温度33.94°C，体感温度35.58°C，湿度41%，风速2.89m/s。  \n",
      "杭州现在的天气：多云，温度34.95°C，体感温度41.95°C，湿度64%，风速3.82m/s。  \n",
      "\n",
      "天气信息已成功写入文件。\u001b[0m\n",
      "\n",
      "\u001b[1m> Finished chain.\u001b[0m\n"
     ]
    },
    {
     "data": {
      "text/plain": [
       "{'input': '请问北京和杭州现在的天气？并写入文件',\n",
       " 'output': '北京现在的天气：多云，温度33.94°C，体感温度35.58°C，湿度41%，风速2.89m/s。  \\n杭州现在的天气：多云，温度34.95°C，体感温度41.95°C，湿度64%，风速3.82m/s。  \\n\\n天气信息已成功写入文件。'}"
      ]
     },
     "execution_count": 32,
     "metadata": {},
     "output_type": "execute_result"
    }
   ],
   "source": [
    "tools = [get_weather_tool, write_file]\n",
    "\n",
    "\n",
    "prompt = ChatPromptTemplate.from_messages(\n",
    "    [\n",
    "        (\n",
    "            \"system\",\n",
    "            \"你是天气助手，请根据用户的问题，给出相应的天气信息，如果用户需要将查询结果写入文件，请使用write_file工具\",\n",
    "        ),\n",
    "        (\"human\", \"{input}\"),\n",
    "        (\"placeholder\", \"{agent_scratchpad}\"),\n",
    "    ]\n",
    ")\n",
    "\n",
    "model = init_chat_model(\n",
    "    model=\"deepseek-v3\",\n",
    "    model_provider=\"openai\",\n",
    "    api_key=DASHSCOPE_API_KEY,\n",
    "    base_url=\"https://dashscope.aliyuncs.com/compatible-mode/v1\",\n",
    ")\n",
    "\n",
    "agent = create_tool_calling_agent(model, tools, prompt)\n",
    "\n",
    "agent_executor = AgentExecutor(agent=agent, tools=tools, verbose=True)\n",
    "\n",
    "response = agent_executor.invoke({\"input\": \"请问北京和杭州现在的天气？并写入文件\"})\n",
    "response"
   ]
  }
 ],
 "metadata": {
  "kernelspec": {
   "display_name": ".venv",
   "language": "python",
   "name": "python3"
  },
  "language_info": {
   "codemirror_mode": {
    "name": "ipython",
    "version": 3
   },
   "file_extension": ".py",
   "mimetype": "text/x-python",
   "name": "python",
   "nbconvert_exporter": "python",
   "pygments_lexer": "ipython3",
   "version": "3.12.11"
  }
 },
 "nbformat": 4,
 "nbformat_minor": 5
}
