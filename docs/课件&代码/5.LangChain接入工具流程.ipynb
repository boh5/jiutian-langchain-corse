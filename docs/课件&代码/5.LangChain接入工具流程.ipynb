{
 "cells": [
  {
   "cell_type": "markdown",
   "id": "6a542af5-855a-4766-b7e4-6248befe337d",
   "metadata": {
    "jp-MarkdownHeadingCollapsed": true
   },
   "source": [
    "## <font face=\"仿宋\">课程说明："
   ]
  },
  {
   "cell_type": "markdown",
   "id": "54e15c2c-b86c-4883-aacd-ae0c18951375",
   "metadata": {},
   "source": [
    "- 体验课内容节选自[《2025大模型Agent智能体开发实战》(夏季班)](https://ix9mq.xetslk.com/s/3u765N)完整版付费课程"
   ]
  },
  {
   "cell_type": "markdown",
   "id": "c8bfd2be-d82a-4123-8617-e3d0a24c6315",
   "metadata": {},
   "source": [
    "&emsp;&emsp;体验课时间有限，若想深度学习大模型技术，欢迎大家报名由我主讲的[《2025大模型Agent智能体开发实战》(夏季班)](https://ix9mq.xetslk.com/s/3u765N)"
   ]
  },
  {
   "cell_type": "markdown",
   "id": "9a80cf8c-7450-4ac0-a625-583318072c37",
   "metadata": {},
   "source": [
    "<center><img src=\"https://ml2022.oss-cn-hangzhou.aliyuncs.com/img/b9ccfe4155bb650c83c4a061f3da131.jpg\" alt=\"d0c81dfe43a1becced8c07db33c3a787_\" style=\"zoom:15%;\" />"
   ]
  },
  {
   "cell_type": "markdown",
   "id": "11317bd3-15bd-448f-aebb-e5676d4f7e2f",
   "metadata": {},
   "source": [
    "**[《2025大模型Agent智能体开发实战》(夏季班)](https://ix9mq.xetslk.com/s/3u765N)为【100+小时】体系大课，总共20大模块精讲精析，零基础直达大模型企业级应用！**"
   ]
  },
  {
   "cell_type": "markdown",
   "id": "0164d9b1-b37c-4966-8393-2345142abb3a",
   "metadata": {},
   "source": [
    "<center><img src=\"https://wechatapppro-1252524126.cdn.xiaoeknow.com/appZe9inzwc2314/image/b_u_5ea8e780054d6_Fop5bmXf/6aueuzm7qbtmje.png?imageView2/2/q/80|imageMogr2/ignore-error/1\" alt=\"img\" style=\"zoom: 33%;\" />"
   ]
  },
  {
   "cell_type": "markdown",
   "id": "674f4d24-56bf-4d33-be6f-f3cb37720afb",
   "metadata": {},
   "source": [
    "部分项目成果演示"
   ]
  },
  {
   "cell_type": "code",
   "execution_count": 6,
   "id": "f4b89c45-7bb0-4db8-ba8f-bed1c66309ee",
   "metadata": {},
   "outputs": [],
   "source": [
    "from IPython.display import Video"
   ]
  },
  {
   "cell_type": "markdown",
   "id": "d499e2d7-a491-4d31-9992-ab942f2f2b37",
   "metadata": {},
   "source": [
    "- **MateGen项目演示**"
   ]
  },
  {
   "cell_type": "code",
   "execution_count": 3,
   "id": "35baa5de-0859-482c-a57b-a2677e099e1d",
   "metadata": {},
   "outputs": [
    {
     "data": {
      "text/html": [
       "<video src=\"https://ml2022.oss-cn-hangzhou.aliyuncs.com/4.MateGen%20Pro%20%E9%A1%B9%E7%9B%AE%E5%8A%9F%E8%83%BD%E6%BC%94%E7%A4%BA.mp4\" controls  width=\"800\"  height=\"400\">\n",
       "      Your browser does not support the <code>video</code> element.\n",
       "    </video>"
      ],
      "text/plain": [
       "<IPython.core.display.Video object>"
      ]
     },
     "execution_count": 3,
     "metadata": {},
     "output_type": "execute_result"
    }
   ],
   "source": [
    "Video(\"https://ml2022.oss-cn-hangzhou.aliyuncs.com/4.MateGen%20Pro%20%E9%A1%B9%E7%9B%AE%E5%8A%9F%E8%83%BD%E6%BC%94%E7%A4%BA.mp4\", width=800, height=400)"
   ]
  },
  {
   "cell_type": "markdown",
   "id": "a813b332-cd00-4507-b240-bdf58ddb535e",
   "metadata": {},
   "source": [
    "- **智能客服项目演示**"
   ]
  },
  {
   "cell_type": "code",
   "execution_count": 4,
   "id": "4979ca75-bdb9-4691-b20d-441b865e158f",
   "metadata": {},
   "outputs": [
    {
     "data": {
      "text/html": [
       "<video src=\"https://ml2022.oss-cn-hangzhou.aliyuncs.com/%E6%99%BA%E8%83%BD%E5%AE%A2%E6%9C%8D%E6%A1%88%E4%BE%8B%E6%BC%94%E7%A4%BA.mp4\" controls  width=\"800\"  height=\"400\">\n",
       "      Your browser does not support the <code>video</code> element.\n",
       "    </video>"
      ],
      "text/plain": [
       "<IPython.core.display.Video object>"
      ]
     },
     "execution_count": 4,
     "metadata": {},
     "output_type": "execute_result"
    }
   ],
   "source": [
    "Video(\"https://ml2022.oss-cn-hangzhou.aliyuncs.com/%E6%99%BA%E8%83%BD%E5%AE%A2%E6%9C%8D%E6%A1%88%E4%BE%8B%E6%BC%94%E7%A4%BA.mp4\", width=800, height=400)"
   ]
  },
  {
   "cell_type": "markdown",
   "id": "27f2ba6d-cb86-4f46-a033-1114e2da8a18",
   "metadata": {},
   "source": [
    "- **Dify项目演示**"
   ]
  },
  {
   "cell_type": "code",
   "execution_count": 6,
   "id": "2f801d74-7455-43d6-9df1-b7b405969c12",
   "metadata": {},
   "outputs": [
    {
     "data": {
      "text/html": [
       "<video src=\"https://ml2022.oss-cn-hangzhou.aliyuncs.com/2f1b47f42c65fd59e8d3a83e6cb9f13b_raw.mp4\" controls  width=\"800\"  height=\"400\">\n",
       "      Your browser does not support the <code>video</code> element.\n",
       "    </video>"
      ],
      "text/plain": [
       "<IPython.core.display.Video object>"
      ]
     },
     "execution_count": 6,
     "metadata": {},
     "output_type": "execute_result"
    }
   ],
   "source": [
    "Video(\"https://ml2022.oss-cn-hangzhou.aliyuncs.com/2f1b47f42c65fd59e8d3a83e6cb9f13b_raw.mp4\", width=800, height=400)"
   ]
  },
  {
   "cell_type": "markdown",
   "id": "7a655208-76f3-401d-87c9-6220e56d4115",
   "metadata": {},
   "source": [
    "- **LangChain&LangGraph搭建Multi-Agnet**"
   ]
  },
  {
   "cell_type": "code",
   "execution_count": 7,
   "id": "a5728ebe-e349-42fe-b16b-e748a771eac5",
   "metadata": {},
   "outputs": [
    {
     "data": {
      "text/html": [
       "<video src=\"https://ml2022.oss-cn-hangzhou.aliyuncs.com/%E5%8F%AF%E8%A7%86%E5%8C%96%E6%95%B0%E6%8D%AE%E5%88%86%E6%9E%90Multi-Agent%E6%95%88%E6%9E%9C%E6%BC%94%E7%A4%BA%E6%95%88%E6%9E%9C.mp4\" controls  width=\"800\"  height=\"400\">\n",
       "      Your browser does not support the <code>video</code> element.\n",
       "    </video>"
      ],
      "text/plain": [
       "<IPython.core.display.Video object>"
      ]
     },
     "execution_count": 7,
     "metadata": {},
     "output_type": "execute_result"
    }
   ],
   "source": [
    "Video(\"https://ml2022.oss-cn-hangzhou.aliyuncs.com/%E5%8F%AF%E8%A7%86%E5%8C%96%E6%95%B0%E6%8D%AE%E5%88%86%E6%9E%90Multi-Agent%E6%95%88%E6%9E%9C%E6%BC%94%E7%A4%BA%E6%95%88%E6%9E%9C.mp4\", width=800, height=400)"
   ]
  },
  {
   "cell_type": "markdown",
   "id": "3a911924-893c-486c-974d-b46a6bb49a25",
   "metadata": {},
   "source": [
    "此外，若是对大模型底层原理感兴趣，也欢迎报名由我和菜菜老师共同主讲的[《2025大模型原理与实战课程》(夏季班)](https://ix9mq.xetslk.com/s/49L2eN)"
   ]
  },
  {
   "cell_type": "markdown",
   "id": "2aef98b4-10dd-49a8-a7b8-72b5e67d362d",
   "metadata": {},
   "source": [
    "<center><img src=\"https://ml2022.oss-cn-hangzhou.aliyuncs.com/img/da5d51c998df07d747cd223c1ed25f7.jpg\" alt=\"da5d51c998df07d747cd223c1ed25f7\" style=\"zoom:20%;\" />"
   ]
  },
  {
   "cell_type": "markdown",
   "id": "10b03f21-716a-4585-a271-8d14bcba234f",
   "metadata": {},
   "source": [
    "**两门大模型课程夏季班目前上新特惠+618年中钜惠双惠叠加，合购还有更多优惠哦~<span style=\"color:red;\">详细信息扫码添加助教，回复“大模型”，即可领取课程大纲&查看课程详情👇</span>**"
   ]
  },
  {
   "cell_type": "markdown",
   "id": "7c8f0fbf-1b72-4774-b8ed-2acfda6cc5b2",
   "metadata": {},
   "source": [
    "<center><img src=\"https://ml2022.oss-cn-hangzhou.aliyuncs.com/img/202506101749045.png\" alt=\"6d9391e440ee8df1466cef1bce40705\" style=\"zoom:50%;\" />"
   ]
  },
  {
   "cell_type": "markdown",
   "id": "0ec5c48a-f26a-467b-b404-9f11f6cbfbf0",
   "metadata": {},
   "source": [
    "---"
   ]
  },
  {
   "cell_type": "markdown",
   "id": "6513b5a4-a0eb-4cbe-a56b-47638e8fe0f6",
   "metadata": {},
   "source": [
    "# <center> LangChain快速入门与Agent开发实战\n",
    "# <center> Part 5.LangChain接入工具流程"
   ]
  },
  {
   "cell_type": "code",
   "execution_count": 105,
   "id": "abddfd2a-eca7-4a84-a303-08f3c8bec51e",
   "metadata": {},
   "outputs": [
    {
     "data": {
      "text/plain": [
       "True"
      ]
     },
     "execution_count": 105,
     "metadata": {},
     "output_type": "execute_result"
    }
   ],
   "source": [
    "import os\n",
    "from dotenv import load_dotenv \n",
    "load_dotenv(override=True)"
   ]
  },
  {
   "cell_type": "markdown",
   "id": "e9ad434c-f528-493f-8971-11f4f1df2ab8",
   "metadata": {},
   "source": [
    "&emsp;&emsp;在LangChain生态中，即有海量丰富的内置工具，同时也能接入自定义工具，不仅能通过搭建一个个链（Chain）将工具封装在对应的工作流中，也能借助LangChain Agent功能，实时灵活创建不同的Chain来完成复杂工具调用，甚至还可以使用更高级的LangGraph进行工作流编排。"
   ]
  },
  {
   "cell_type": "markdown",
   "id": "68a5296c-1936-42f1-b7b9-1c99e21dff28",
   "metadata": {},
   "source": [
    "&emsp;&emsp;本小节我们将首先介绍如何在LangChain中接入外部工具，然后从下一小节开始，我们会进一步介绍如何使用LangChain Agent库来搭建更加复杂的工作流。"
   ]
  },
  {
   "cell_type": "markdown",
   "id": "9dbe34f3-20f0-488d-91dc-9bd0e1e68330",
   "metadata": {},
   "source": [
    "### 1. LangChain接入工具基本流程"
   ]
  },
  {
   "cell_type": "markdown",
   "id": "97ff8b82-0dfe-458e-a992-a23c97848906",
   "metadata": {},
   "source": [
    "&emsp;&emsp;这里我们首先介绍一个最基本的LangChain接入工具流程。在MCP爆火之前，LangChian生态中就已经内置集成了非常多的实用工具，开发者可以快速调用这些工具完成更加复杂工作流的开发。"
   ]
  },
  {
   "cell_type": "markdown",
   "id": "27513a57-d19c-4066-b3c2-93f6b3b27046",
   "metadata": {},
   "source": [
    "- LangChain内置工具列表：https://python.langchain.com/docs/integrations/tools/"
   ]
  },
  {
   "cell_type": "markdown",
   "id": "cfb1c8d2-5192-49c1-b924-697bc2b2b9ac",
   "metadata": {},
   "source": [
    "<center><img src=\"https://ml2022.oss-cn-hangzhou.aliyuncs.com/img/202506122022882.png\" alt=\"image-20250612202253781\" style=\"zoom:50%;\" />"
   ]
  },
  {
   "cell_type": "markdown",
   "id": "803e0717-e596-47ac-a472-a9d8ca17d1b5",
   "metadata": {},
   "source": [
    "我们就以其中代码解释器为例，来介绍如何将内置工具接入LangChain的工作流中。"
   ]
  },
  {
   "cell_type": "code",
   "execution_count": 14,
   "id": "bec8f2fe-ddbc-49d6-a95f-96c6bd618d85",
   "metadata": {},
   "outputs": [
    {
     "name": "stdout",
     "output_type": "stream",
     "text": [
      "\u001b[33mWARNING: Running pip as the 'root' user can result in broken permissions and conflicting behaviour with the system package manager. It is recommended to use a virtual environment instead: https://pip.pypa.io/warnings/venv\u001b[0m\u001b[33m\n",
      "\u001b[0m"
     ]
    }
   ],
   "source": [
    "!pip install -qU langchain-community langchain-experimental pandas -i https://pypi.tuna.tsinghua.edu.cn/simple"
   ]
  },
  {
   "cell_type": "markdown",
   "id": "c3a38a6e-de89-46a2-b037-9fe110678cbe",
   "metadata": {},
   "source": [
    "- 数据集介绍"
   ]
  },
  {
   "cell_type": "markdown",
   "id": "c976e1d1-599b-40da-9710-a1fc822553a0",
   "metadata": {},
   "source": [
    "&emsp;&emsp;在此前验证ChatGPT代码解释器和Open interpreter功能时，我们曾简单介绍过Telco数据集，该数据集是Kaggle分享的一个高分数据集（1788 votes），是Kaggle平台上非常经典的围绕偏态数据集建模的数据集。该数据源自IBM商业社区（[IBM Business Analytics Community](https://community.ibm.com/community/user/businessanalytics/blogs/steven-macko/2019/07/11/telco-customer-churn-1113)）上分享的数据集，用于社区成员内部学习使用。"
   ]
  },
  {
   "cell_type": "markdown",
   "id": "6252398e-90da-4de6-a491-19ac6bf359a4",
   "metadata": {},
   "source": [
    "<center><img src=\"https://ml2022.oss-cn-hangzhou.aliyuncs.com/img/202309261518695.png\" alt=\"0a77913f39d70074880ba6a48d83e97\" style=\"zoom:40%;\" />"
   ]
  },
  {
   "cell_type": "markdown",
   "id": "b1dab853-045b-47db-ba7a-206c78f16be4",
   "metadata": {},
   "source": [
    "&emsp;&emsp;根据IBM商业社区分享团队描述，该数据集为某电信公司在加利福尼亚为7000余位用户（个人/家庭）提供电话和互联网服务的相关记录。由于该数据集并不是竞赛数据集，因此数据集的下载方式相对容易，官网也只提供了网页下载一种选项（无法通过命令行直接下载）。我们可以在[该数据集的Kaggle主页](https://www.kaggle.com/blastchar/telco-customer-churn)看到数据集的相关信息以及下载地址。此处我们简单介绍关于Kaggle数据集页面的基本功能，既Kaggle平台的基本使用方法，在后续的课程学习中，若是Kaggle案例，我们也将频繁借助Kaggle主页来获取帮助。当然，熟练使用Kaggle主页获取数据和挖掘信息（而不是借助第三方渠道），也是算法工程师必备技能之一。"
   ]
  },
  {
   "cell_type": "markdown",
   "id": "c4160731-d01f-41d6-af9a-ee3f78d567ad",
   "metadata": {},
   "source": [
    "- 数据集主页"
   ]
  },
  {
   "cell_type": "markdown",
   "id": "fa54f4c9-00fc-4a61-9950-bfbc41d25dee",
   "metadata": {},
   "source": [
    "&emsp;&emsp;首先是数据集主页："
   ]
  },
  {
   "cell_type": "markdown",
   "id": "7be3309a-078d-460f-8fd0-6c0bf23fab6d",
   "metadata": {},
   "source": [
    "<center><img src=\"https://ml2022.oss-cn-hangzhou.aliyuncs.com/img/202309261518982.png\" alt=\"406c80930104ce83cc47666d7a0e7d0\" style=\"zoom:40%;\" />"
   ]
  },
  {
   "cell_type": "markdown",
   "id": "72b0bc07-1d6e-4529-bf88-4c272d186947",
   "metadata": {},
   "source": [
    "<center><img src=\"https://ml2022.oss-cn-hangzhou.aliyuncs.com/img/202309261519763.png\" alt=\"d6f7ec8fbec1178325088b1c8d1ad08\" style=\"zoom:40%;\" />"
   ]
  },
  {
   "cell_type": "markdown",
   "id": "091ba529-1edd-4416-a977-b766fd8d64fd",
   "metadata": {},
   "source": [
    "&emsp;&emsp;此处我们能大致看到数据集基本信息，如总共只有一个数据文件（在其他很多情况下，一个建模目标可能会包含多个数据集），总共21列，7043条数据，以及其他各列的一些基本统计信息等。"
   ]
  },
  {
   "cell_type": "markdown",
   "id": "59bc3d28-ad04-4724-b9e2-daf75f9a9ee9",
   "metadata": {},
   "source": [
    "&emsp;&emsp;当然，在数据集主页上，我们可以直接点击下载按钮进行数据集下载。下载完成后将其放到当前操作主目录下进行读取："
   ]
  },
  {
   "cell_type": "code",
   "execution_count": 8,
   "id": "595875da-79a5-42a0-8a66-83f2f4652d7f",
   "metadata": {},
   "outputs": [],
   "source": [
    "import numpy as np\n",
    "import pandas as pd"
   ]
  },
  {
   "cell_type": "code",
   "execution_count": 9,
   "id": "d28dcbe9-bbf3-4e9c-8ee9-abfbd31e5779",
   "metadata": {
    "tags": []
   },
   "outputs": [],
   "source": [
    "dataset = pd.read_csv('WA_Fn-UseC_-Telco-Customer-Churn.csv')"
   ]
  },
  {
   "cell_type": "code",
   "execution_count": 10,
   "id": "31703d9c-63d1-4947-b09d-9117dca5f4be",
   "metadata": {
    "tags": []
   },
   "outputs": [
    {
     "data": {
      "text/html": [
       "<div>\n",
       "<style scoped>\n",
       "    .dataframe tbody tr th:only-of-type {\n",
       "        vertical-align: middle;\n",
       "    }\n",
       "\n",
       "    .dataframe tbody tr th {\n",
       "        vertical-align: top;\n",
       "    }\n",
       "\n",
       "    .dataframe thead th {\n",
       "        text-align: right;\n",
       "    }\n",
       "</style>\n",
       "<table border=\"1\" class=\"dataframe\">\n",
       "  <thead>\n",
       "    <tr style=\"text-align: right;\">\n",
       "      <th></th>\n",
       "      <th>customerID</th>\n",
       "      <th>gender</th>\n",
       "      <th>SeniorCitizen</th>\n",
       "      <th>Partner</th>\n",
       "      <th>Dependents</th>\n",
       "      <th>tenure</th>\n",
       "      <th>PhoneService</th>\n",
       "      <th>MultipleLines</th>\n",
       "      <th>InternetService</th>\n",
       "      <th>OnlineSecurity</th>\n",
       "      <th>...</th>\n",
       "      <th>DeviceProtection</th>\n",
       "      <th>TechSupport</th>\n",
       "      <th>StreamingTV</th>\n",
       "      <th>StreamingMovies</th>\n",
       "      <th>Contract</th>\n",
       "      <th>PaperlessBilling</th>\n",
       "      <th>PaymentMethod</th>\n",
       "      <th>MonthlyCharges</th>\n",
       "      <th>TotalCharges</th>\n",
       "      <th>Churn</th>\n",
       "    </tr>\n",
       "  </thead>\n",
       "  <tbody>\n",
       "    <tr>\n",
       "      <th>0</th>\n",
       "      <td>7590-VHVEG</td>\n",
       "      <td>Female</td>\n",
       "      <td>0</td>\n",
       "      <td>Yes</td>\n",
       "      <td>No</td>\n",
       "      <td>1</td>\n",
       "      <td>No</td>\n",
       "      <td>No phone service</td>\n",
       "      <td>DSL</td>\n",
       "      <td>No</td>\n",
       "      <td>...</td>\n",
       "      <td>No</td>\n",
       "      <td>No</td>\n",
       "      <td>No</td>\n",
       "      <td>No</td>\n",
       "      <td>Month-to-month</td>\n",
       "      <td>Yes</td>\n",
       "      <td>Electronic check</td>\n",
       "      <td>29.85</td>\n",
       "      <td>29.85</td>\n",
       "      <td>No</td>\n",
       "    </tr>\n",
       "    <tr>\n",
       "      <th>1</th>\n",
       "      <td>5575-GNVDE</td>\n",
       "      <td>Male</td>\n",
       "      <td>0</td>\n",
       "      <td>No</td>\n",
       "      <td>No</td>\n",
       "      <td>34</td>\n",
       "      <td>Yes</td>\n",
       "      <td>No</td>\n",
       "      <td>DSL</td>\n",
       "      <td>Yes</td>\n",
       "      <td>...</td>\n",
       "      <td>Yes</td>\n",
       "      <td>No</td>\n",
       "      <td>No</td>\n",
       "      <td>No</td>\n",
       "      <td>One year</td>\n",
       "      <td>No</td>\n",
       "      <td>Mailed check</td>\n",
       "      <td>56.95</td>\n",
       "      <td>1889.5</td>\n",
       "      <td>No</td>\n",
       "    </tr>\n",
       "    <tr>\n",
       "      <th>2</th>\n",
       "      <td>3668-QPYBK</td>\n",
       "      <td>Male</td>\n",
       "      <td>0</td>\n",
       "      <td>No</td>\n",
       "      <td>No</td>\n",
       "      <td>2</td>\n",
       "      <td>Yes</td>\n",
       "      <td>No</td>\n",
       "      <td>DSL</td>\n",
       "      <td>Yes</td>\n",
       "      <td>...</td>\n",
       "      <td>No</td>\n",
       "      <td>No</td>\n",
       "      <td>No</td>\n",
       "      <td>No</td>\n",
       "      <td>Month-to-month</td>\n",
       "      <td>Yes</td>\n",
       "      <td>Mailed check</td>\n",
       "      <td>53.85</td>\n",
       "      <td>108.15</td>\n",
       "      <td>Yes</td>\n",
       "    </tr>\n",
       "    <tr>\n",
       "      <th>3</th>\n",
       "      <td>7795-CFOCW</td>\n",
       "      <td>Male</td>\n",
       "      <td>0</td>\n",
       "      <td>No</td>\n",
       "      <td>No</td>\n",
       "      <td>45</td>\n",
       "      <td>No</td>\n",
       "      <td>No phone service</td>\n",
       "      <td>DSL</td>\n",
       "      <td>Yes</td>\n",
       "      <td>...</td>\n",
       "      <td>Yes</td>\n",
       "      <td>Yes</td>\n",
       "      <td>No</td>\n",
       "      <td>No</td>\n",
       "      <td>One year</td>\n",
       "      <td>No</td>\n",
       "      <td>Bank transfer (automatic)</td>\n",
       "      <td>42.30</td>\n",
       "      <td>1840.75</td>\n",
       "      <td>No</td>\n",
       "    </tr>\n",
       "    <tr>\n",
       "      <th>4</th>\n",
       "      <td>9237-HQITU</td>\n",
       "      <td>Female</td>\n",
       "      <td>0</td>\n",
       "      <td>No</td>\n",
       "      <td>No</td>\n",
       "      <td>2</td>\n",
       "      <td>Yes</td>\n",
       "      <td>No</td>\n",
       "      <td>Fiber optic</td>\n",
       "      <td>No</td>\n",
       "      <td>...</td>\n",
       "      <td>No</td>\n",
       "      <td>No</td>\n",
       "      <td>No</td>\n",
       "      <td>No</td>\n",
       "      <td>Month-to-month</td>\n",
       "      <td>Yes</td>\n",
       "      <td>Electronic check</td>\n",
       "      <td>70.70</td>\n",
       "      <td>151.65</td>\n",
       "      <td>Yes</td>\n",
       "    </tr>\n",
       "  </tbody>\n",
       "</table>\n",
       "<p>5 rows × 21 columns</p>\n",
       "</div>"
      ],
      "text/plain": [
       "   customerID  gender  SeniorCitizen Partner Dependents  tenure PhoneService  \\\n",
       "0  7590-VHVEG  Female              0     Yes         No       1           No   \n",
       "1  5575-GNVDE    Male              0      No         No      34          Yes   \n",
       "2  3668-QPYBK    Male              0      No         No       2          Yes   \n",
       "3  7795-CFOCW    Male              0      No         No      45           No   \n",
       "4  9237-HQITU  Female              0      No         No       2          Yes   \n",
       "\n",
       "      MultipleLines InternetService OnlineSecurity  ... DeviceProtection  \\\n",
       "0  No phone service             DSL             No  ...               No   \n",
       "1                No             DSL            Yes  ...              Yes   \n",
       "2                No             DSL            Yes  ...               No   \n",
       "3  No phone service             DSL            Yes  ...              Yes   \n",
       "4                No     Fiber optic             No  ...               No   \n",
       "\n",
       "  TechSupport StreamingTV StreamingMovies        Contract PaperlessBilling  \\\n",
       "0          No          No              No  Month-to-month              Yes   \n",
       "1          No          No              No        One year               No   \n",
       "2          No          No              No  Month-to-month              Yes   \n",
       "3         Yes          No              No        One year               No   \n",
       "4          No          No              No  Month-to-month              Yes   \n",
       "\n",
       "               PaymentMethod MonthlyCharges  TotalCharges Churn  \n",
       "0           Electronic check          29.85         29.85    No  \n",
       "1               Mailed check          56.95        1889.5    No  \n",
       "2               Mailed check          53.85        108.15   Yes  \n",
       "3  Bank transfer (automatic)          42.30       1840.75    No  \n",
       "4           Electronic check          70.70        151.65   Yes  \n",
       "\n",
       "[5 rows x 21 columns]"
      ]
     },
     "execution_count": 10,
     "metadata": {},
     "output_type": "execute_result"
    }
   ],
   "source": [
    "pd.set_option('max_colwidth',200)\n",
    "\n",
    "dataset.head(5)"
   ]
  },
  {
   "cell_type": "code",
   "execution_count": 11,
   "id": "8bda36d4-adab-460c-878f-6488925a7240",
   "metadata": {
    "tags": []
   },
   "outputs": [
    {
     "name": "stdout",
     "output_type": "stream",
     "text": [
      "<class 'pandas.core.frame.DataFrame'>\n",
      "RangeIndex: 7043 entries, 0 to 7042\n",
      "Data columns (total 21 columns):\n",
      " #   Column            Non-Null Count  Dtype  \n",
      "---  ------            --------------  -----  \n",
      " 0   customerID        7043 non-null   object \n",
      " 1   gender            7043 non-null   object \n",
      " 2   SeniorCitizen     7043 non-null   int64  \n",
      " 3   Partner           7043 non-null   object \n",
      " 4   Dependents        7043 non-null   object \n",
      " 5   tenure            7043 non-null   int64  \n",
      " 6   PhoneService      7043 non-null   object \n",
      " 7   MultipleLines     7043 non-null   object \n",
      " 8   InternetService   7043 non-null   object \n",
      " 9   OnlineSecurity    7043 non-null   object \n",
      " 10  OnlineBackup      7043 non-null   object \n",
      " 11  DeviceProtection  7043 non-null   object \n",
      " 12  TechSupport       7043 non-null   object \n",
      " 13  StreamingTV       7043 non-null   object \n",
      " 14  StreamingMovies   7043 non-null   object \n",
      " 15  Contract          7043 non-null   object \n",
      " 16  PaperlessBilling  7043 non-null   object \n",
      " 17  PaymentMethod     7043 non-null   object \n",
      " 18  MonthlyCharges    7043 non-null   float64\n",
      " 19  TotalCharges      7043 non-null   object \n",
      " 20  Churn             7043 non-null   object \n",
      "dtypes: float64(1), int64(2), object(18)\n",
      "memory usage: 1.1+ MB\n"
     ]
    }
   ],
   "source": [
    "dataset.info()"
   ]
  },
  {
   "cell_type": "markdown",
   "id": "0ba40ded-0c8d-40c8-9df9-8bb61ec551e9",
   "metadata": {},
   "source": [
    "其中数据集各字段解释如下："
   ]
  },
  {
   "cell_type": "markdown",
   "id": "fb3de50a-b6c1-4358-accb-061cb2e894c6",
   "metadata": {},
   "source": [
    "| 字段 | 解释 |\n",
    "| ------ | ------ |\n",
    "| customerID | 用户ID |\n",
    "| gender | 性别 |\n",
    "| SeniorCitizen | 是否是老年人（1代表是） |\n",
    "| Partner | 是否有配偶（Yes or No） |\n",
    "| Dependents | 是否经济独立（Yes or No） |\n",
    "| tenure | 用户入网时间 |\n",
    "| PhoneService | 是否开通电话业务（Yes or No） |\n",
    "| MultipleLines | 是否开通多条电话业务（Yes 、 No or No phoneservice） |\n",
    "| InternetService | 是否开通互联网服务（No、DSL数字网络或filber potic光线网络） |\n",
    "| OnlineSecurity | 是否开通网络安全服务（Yes、No or No internetservice） |\n",
    "| OnlineBackup | 是否开通在线备份服务（Yes、No or No internetservice） |\n",
    "| DeviceProtection | 是否开通设备保护服务（Yes、No or No internetservice） |\n",
    "| TechSupport | 是否开通技术支持业务（Yes、No or No internetservice）  |\n",
    "| StreamingTV  | 是否开通网络电视（Yes、No or No internetservice） |\n",
    "| StreamingMovies | 是否开通网络电影（Yes、No or No internetservice）  |\n",
    "| Contract | 合同签订方式（按月、按年或者两年）  |\n",
    "| PaperlessBilling | 是否开通电子账单（Yes or No）  |\n",
    "| PaymentMethod | 付款方式（bank transfer、credit card、electronic check、mailed check） |\n",
    "| MonthlyCharges | 月度费用 |\n",
    "| TotalCharges | 总费用  |\n",
    "| Churn | 是否流失（Yes or No） |"
   ]
  },
  {
   "cell_type": "markdown",
   "id": "ca46d4d6-4b88-43c5-b3d3-8e2e2b45169f",
   "metadata": {},
   "source": [
    "- 测试LangChain内置代码解释器工具功能"
   ]
  },
  {
   "cell_type": "code",
   "execution_count": 15,
   "id": "5bc44ccb-3853-4e0d-9fd6-a13537498304",
   "metadata": {},
   "outputs": [],
   "source": [
    "import pandas as pd\n",
    "from langchain_core.prompts import ChatPromptTemplate\n",
    "from langchain_experimental.tools import PythonAstREPLTool"
   ]
  },
  {
   "cell_type": "code",
   "execution_count": 16,
   "id": "e8fd9433-5e37-4efb-84bd-4974784b66f9",
   "metadata": {},
   "outputs": [
    {
     "data": {
      "text/plain": [
       "0.1621468124378816"
      ]
     },
     "execution_count": 16,
     "metadata": {},
     "output_type": "execute_result"
    }
   ],
   "source": [
    "df = pd.read_csv('WA_Fn-UseC_-Telco-Customer-Churn.csv')\n",
    "tool = PythonAstREPLTool(locals={\"df\": df})\n",
    "tool.invoke(\"df['SeniorCitizen'].mean()\")"
   ]
  },
  {
   "cell_type": "code",
   "execution_count": 21,
   "id": "0f893f19-911c-4840-9cbc-a4cb487ac2e0",
   "metadata": {},
   "outputs": [
    {
     "data": {
      "text/plain": [
       "64.76169246059918"
      ]
     },
     "execution_count": 21,
     "metadata": {},
     "output_type": "execute_result"
    }
   ],
   "source": [
    "df['MonthlyCharges'].mean()"
   ]
  },
  {
   "cell_type": "markdown",
   "id": "35827799-eb46-4c9c-9cfa-7d9e177e4091",
   "metadata": {},
   "source": [
    "- 创建LangChain工作流并绑定内置工具"
   ]
  },
  {
   "cell_type": "code",
   "execution_count": 25,
   "id": "3916e0c2-5a9b-4922-83dc-9cc98421720e",
   "metadata": {},
   "outputs": [],
   "source": [
    "import os\n",
    "from dotenv import load_dotenv \n",
    "load_dotenv(override=True)\n",
    "\n",
    "from langchain_core.messages import AIMessage, HumanMessage, SystemMessage\n",
    "from langchain_core.prompts import ChatPromptTemplate, MessagesPlaceholder\n",
    "from langchain.chat_models import init_chat_model\n",
    "from langchain_core.output_parsers import StrOutputParser"
   ]
  },
  {
   "cell_type": "code",
   "execution_count": 26,
   "id": "a8a1cf55-f6f6-472d-97b9-b13921945f1c",
   "metadata": {},
   "outputs": [],
   "source": [
    "model  = init_chat_model(model=\"deepseek-chat\", model_provider=\"deepseek\")"
   ]
  },
  {
   "cell_type": "code",
   "execution_count": 27,
   "id": "ac5fb04a-a55c-4c37-9632-1a6fdcaabbb4",
   "metadata": {},
   "outputs": [],
   "source": [
    "llm_with_tools = model.bind_tools([tool])"
   ]
  },
  {
   "cell_type": "code",
   "execution_count": 28,
   "id": "5eff78bf-0b37-4475-a62d-58e70c4fb25e",
   "metadata": {},
   "outputs": [
    {
     "data": {
      "text/plain": [
       "AIMessage(content='', additional_kwargs={'tool_calls': [{'id': 'call_0_78151639-647e-4205-b8d5-2e223cda1b3d', 'function': {'arguments': '{\"query\":\"df[\\'MonthlyCharges\\'].mean()\"}', 'name': 'python_repl_ast'}, 'type': 'function', 'index': 0}], 'refusal': None}, response_metadata={'token_usage': {'completion_tokens': 29, 'prompt_tokens': 173, 'total_tokens': 202, 'completion_tokens_details': None, 'prompt_tokens_details': {'audio_tokens': None, 'cached_tokens': 0}, 'prompt_cache_hit_tokens': 0, 'prompt_cache_miss_tokens': 173}, 'model_name': 'deepseek-chat', 'system_fingerprint': 'fp_8802369eaa_prod0425fp8', 'id': 'ee3a42c6-cb19-4570-b68d-246a046e4542', 'service_tier': None, 'finish_reason': 'tool_calls', 'logprobs': None}, id='run--6035ee7e-8397-45a7-a727-21209b35e9db-0', tool_calls=[{'name': 'python_repl_ast', 'args': {'query': \"df['MonthlyCharges'].mean()\"}, 'id': 'call_0_78151639-647e-4205-b8d5-2e223cda1b3d', 'type': 'tool_call'}], usage_metadata={'input_tokens': 173, 'output_tokens': 29, 'total_tokens': 202, 'input_token_details': {'cache_read': 0}, 'output_token_details': {}})"
      ]
     },
     "execution_count": 28,
     "metadata": {},
     "output_type": "execute_result"
    }
   ],
   "source": [
    "response = llm_with_tools.invoke(\n",
    "    \"我有一张表，名为'df'，请帮我计算MonthlyCharges字段的均值。\"\n",
    ")\n",
    "response"
   ]
  },
  {
   "cell_type": "markdown",
   "id": "658fe152-88c2-4a88-8074-0e53d6a308bd",
   "metadata": {},
   "source": [
    "此时我们发现，LangChain回复的结果就不不再式简单的文字内容，而是一条调用外部工具的消息。我们可以使用如下方法将这条消息里面涉及到代码运行的核心参数提取出来："
   ]
  },
  {
   "cell_type": "code",
   "execution_count": 30,
   "id": "3718d5d8-5ee4-405f-b4c3-370571fbc586",
   "metadata": {},
   "outputs": [],
   "source": [
    "from langchain_core.output_parsers.openai_tools import JsonOutputKeyToolsParser"
   ]
  },
  {
   "cell_type": "code",
   "execution_count": 31,
   "id": "aefbfb73-4611-41d1-a252-563ac3d9bb46",
   "metadata": {},
   "outputs": [],
   "source": [
    "parser = JsonOutputKeyToolsParser(key_name=tool.name, first_tool_only=True)"
   ]
  },
  {
   "cell_type": "code",
   "execution_count": 32,
   "id": "4215fe08-bd79-423c-a623-79b53839db80",
   "metadata": {},
   "outputs": [],
   "source": [
    "llm_chain = llm_with_tools | parser"
   ]
  },
  {
   "cell_type": "code",
   "execution_count": 33,
   "id": "792583da-b725-4647-ad45-c883805d3c47",
   "metadata": {},
   "outputs": [
    {
     "data": {
      "text/plain": [
       "{'query': \"df['MonthlyCharges'].mean()\"}"
      ]
     },
     "execution_count": 33,
     "metadata": {},
     "output_type": "execute_result"
    }
   ],
   "source": [
    "llm_chain.invoke(\"我有一张表，名为'df'，请帮我计算MonthlyCharges字段的均值。\")"
   ]
  },
  {
   "cell_type": "markdown",
   "id": "733a28ab-b72e-4dc4-bd7d-7bf6d7510b8b",
   "metadata": {},
   "source": [
    "同时，通过设置提示词模板，让模型知道目前运行环境，从而无需反复提示df表："
   ]
  },
  {
   "cell_type": "code",
   "execution_count": 42,
   "id": "d3e5103a-b849-4610-8cce-e88116d95dfc",
   "metadata": {},
   "outputs": [],
   "source": [
    "system = f\"\"\"\n",
    "你可以访问一个名为 `df` 的 pandas 数据框，你可以使用df.head().to_markdown() 查看数据集的基本信息， \\\n",
    "请根据用户提出的问题，编写 Python 代码来回答。只返回代码，不返回其他内容。只允许使用 pandas 和内置库。\n",
    "\"\"\""
   ]
  },
  {
   "cell_type": "code",
   "execution_count": 43,
   "id": "d69b6fc4-c47b-4954-b081-6e257af7bb27",
   "metadata": {},
   "outputs": [],
   "source": [
    "prompt = ChatPromptTemplate([\n",
    "    (\"system\", system),\n",
    "    (\"user\", \"{question}\")\n",
    "])"
   ]
  },
  {
   "cell_type": "code",
   "execution_count": 44,
   "id": "def8ee49-ee8c-4fff-8b55-05b2e1085d6d",
   "metadata": {},
   "outputs": [],
   "source": [
    "code_chain = prompt | llm_with_tools | parser"
   ]
  },
  {
   "cell_type": "code",
   "execution_count": 45,
   "id": "1783d81f-be71-41f7-8ba9-7120b3f1aebb",
   "metadata": {},
   "outputs": [
    {
     "data": {
      "text/plain": [
       "{'query': \"df['MonthlyCharges'].mean()\"}"
      ]
     },
     "execution_count": 45,
     "metadata": {},
     "output_type": "execute_result"
    }
   ],
   "source": [
    "code_chain.invoke({\"question\": \"请帮我计算MonthlyCharges字段的均值。\"})"
   ]
  },
  {
   "cell_type": "markdown",
   "id": "4c6510f4-9c83-4810-8265-46484dfbac64",
   "metadata": {},
   "source": [
    "然后，我们再在当前链中加入一个tool外部函数的环节，即可让大模型输出的参数直接带入到tool中进行运行："
   ]
  },
  {
   "cell_type": "code",
   "execution_count": 46,
   "id": "6453abd4-ad2f-43e3-b962-7095f1b81c2f",
   "metadata": {},
   "outputs": [
    {
     "data": {
      "text/plain": [
       "64.76169246059918"
      ]
     },
     "execution_count": 46,
     "metadata": {},
     "output_type": "execute_result"
    }
   ],
   "source": [
    "chain = prompt | llm_with_tools | parser | tool\n",
    "chain.invoke({\"question\": \"请帮我计算MonthlyCharges字段的均值。\"})"
   ]
  },
  {
   "cell_type": "code",
   "execution_count": 49,
   "id": "f4557a52-0c7a-409f-9dae-1dbbaf5bfaf3",
   "metadata": {},
   "outputs": [
    {
     "data": {
      "text/plain": [
       "(Churn     No  Yes\n",
       " gender           \n",
       " Female  2549  939\n",
       " Male    2625  930,\n",
       " Churn            No   Yes\n",
       " SeniorCitizen            \n",
       " 0              4508  1393\n",
       " 1               666   476,\n",
       " SeniorCitizen     0    1\n",
       " gender                  \n",
       " Female         2920  568\n",
       " Male           2981  574)"
      ]
     },
     "execution_count": 49,
     "metadata": {},
     "output_type": "execute_result"
    }
   ],
   "source": [
    "chain.invoke({\"question\": \"请帮我分析gender、SeniorCitizen和Churn三个字段之间的相关关系。\"})"
   ]
  },
  {
   "cell_type": "markdown",
   "id": "dd4d90df-5e5d-482c-bb77-08a1d0ad660e",
   "metadata": {},
   "source": [
    "同时，按照此前介绍的，我们还可以在链条中加入一个打印的环节，让模型将编写的Python代码进行打印："
   ]
  },
  {
   "cell_type": "code",
   "execution_count": 56,
   "id": "9fb470f3-50e1-4348-9864-7ead39aa275a",
   "metadata": {},
   "outputs": [],
   "source": [
    "def code_print(res):\n",
    "    print(\"即将运行Python代码:\", res['query'])\n",
    "    return res"
   ]
  },
  {
   "cell_type": "code",
   "execution_count": 51,
   "id": "af90a45b-727c-4260-9cca-8da3eaa5e0c4",
   "metadata": {},
   "outputs": [],
   "source": [
    "res = code_chain.invoke({\"question\": \"请帮我计算MonthlyCharges字段的均值。\"})"
   ]
  },
  {
   "cell_type": "code",
   "execution_count": 52,
   "id": "3630c646-7c97-4e25-8b15-3baa9fd20004",
   "metadata": {},
   "outputs": [
    {
     "data": {
      "text/plain": [
       "{'query': \"df['MonthlyCharges'].mean()\"}"
      ]
     },
     "execution_count": 52,
     "metadata": {},
     "output_type": "execute_result"
    }
   ],
   "source": [
    "res"
   ]
  },
  {
   "cell_type": "code",
   "execution_count": 53,
   "id": "b2f567fd-8337-456a-916e-266966bbcec1",
   "metadata": {},
   "outputs": [
    {
     "data": {
      "text/plain": [
       "\"df['MonthlyCharges'].mean()\""
      ]
     },
     "execution_count": 53,
     "metadata": {},
     "output_type": "execute_result"
    }
   ],
   "source": [
    "res['query']"
   ]
  },
  {
   "cell_type": "code",
   "execution_count": 54,
   "id": "4a988c83-d4bd-433e-92ff-9156130b5ec3",
   "metadata": {},
   "outputs": [
    {
     "name": "stdout",
     "output_type": "stream",
     "text": [
      "即将运行Python代码: df['MonthlyCharges'].mean()\n"
     ]
    }
   ],
   "source": [
    "print(\"即将运行Python代码:\", res['query'])"
   ]
  },
  {
   "cell_type": "code",
   "execution_count": 57,
   "id": "72464ee7-d960-42ad-84e9-47911059fc64",
   "metadata": {},
   "outputs": [],
   "source": [
    "from langchain_core.runnables import RunnableLambda\n",
    "\n",
    "def code_print(res):\n",
    "    print(\"即将运行Python代码:\", res['query'])\n",
    "    return res\n",
    "\n",
    "print_node = RunnableLambda(code_print)"
   ]
  },
  {
   "cell_type": "code",
   "execution_count": 58,
   "id": "c494df98-3522-4a23-b84f-a9f5d9f4f9ab",
   "metadata": {},
   "outputs": [
    {
     "name": "stdout",
     "output_type": "stream",
     "text": [
      "即将运行Python代码: df['MonthlyCharges'].mean()\n"
     ]
    },
    {
     "data": {
      "text/plain": [
       "64.76169246059918"
      ]
     },
     "execution_count": 58,
     "metadata": {},
     "output_type": "execute_result"
    }
   ],
   "source": [
    "print_code_chain = prompt | llm_with_tools | parser | print_node | tool\n",
    "print_code_chain.invoke({\"question\": \"请帮我计算MonthlyCharges字段的均值。\"})"
   ]
  },
  {
   "cell_type": "code",
   "execution_count": 59,
   "id": "345436c7-7e38-4393-ac72-f321098e7dbd",
   "metadata": {},
   "outputs": [
    {
     "data": {
      "text/plain": [
       "64.76169246059918"
      ]
     },
     "execution_count": 59,
     "metadata": {},
     "output_type": "execute_result"
    }
   ],
   "source": [
    "df['MonthlyCharges'].mean()"
   ]
  },
  {
   "cell_type": "code",
   "execution_count": 60,
   "id": "ec429ae1-7a53-4c5a-954d-de211e1e60a5",
   "metadata": {},
   "outputs": [
    {
     "name": "stdout",
     "output_type": "stream",
     "text": [
      "即将运行Python代码: df.loc[df['MonthlyCharges'].idxmax(), 'customerID']\n"
     ]
    },
    {
     "data": {
      "text/plain": [
       "'7569-NMZYQ'"
      ]
     },
     "execution_count": 60,
     "metadata": {},
     "output_type": "execute_result"
    }
   ],
   "source": [
    "print_code_chain = prompt | llm_with_tools | parser | print_node | tool\n",
    "print_code_chain.invoke({\"question\": \"请问MonthlyCharges取值最高的用户ID是？\"})"
   ]
  },
  {
   "cell_type": "markdown",
   "id": "1d91c9b9-f101-465c-8a21-c29853b3849b",
   "metadata": {},
   "source": [
    "至此，一个简单的包含官方内置工具的代码解释器工作流就搭建完成了。"
   ]
  },
  {
   "cell_type": "markdown",
   "id": "d4f97706-d0e3-466e-a38c-dd54bcf1e542",
   "metadata": {},
   "source": [
    "### 2. LangChain接入自定义外部工作流程"
   ]
  },
  {
   "cell_type": "markdown",
   "id": "4a72e1fe-fb94-4b32-a9d2-a40b5350fdcd",
   "metadata": {},
   "source": [
    "&emsp;&emsp;这里我们以实时获取天气数据为例，尝试创建一个外部函数，并将其封装为LangChian的一项基础工作。在`langChain`中，如果想要把一个普通的函数，变成一个可以被大模型调用的工具，只需要将函数包装成一个`Tool`对象即可。\n",
    "\n",
    "&emsp;&emsp;这里我们首先需要获取OpenWeather API Key，并写入.env文件中，方便后续进行天气查询。"
   ]
  },
  {
   "cell_type": "markdown",
   "id": "e9e21d36-730d-4e62-a022-cbe45a4940ff",
   "metadata": {},
   "source": [
    "<center><img src=\"https://ml2022.oss-cn-hangzhou.aliyuncs.com/img/202506121829432.png\" alt=\"image-20250612182917407\" style=\"zoom:50%;\" />"
   ]
  },
  {
   "cell_type": "markdown",
   "id": "359af99f-1bb8-40cb-b576-ef8eb57b565a",
   "metadata": {},
   "source": [
    "然后先尝试创建这个外部函数："
   ]
  },
  {
   "cell_type": "code",
   "execution_count": 106,
   "id": "48165601-191d-4227-af2a-69bc8197232c",
   "metadata": {},
   "outputs": [],
   "source": [
    "import os\n",
    "from dotenv import load_dotenv \n",
    "load_dotenv(override=True)\n",
    "\n",
    "OPENWEATHER_API_KEY = os.getenv(\"OPENWEATHER_API_KEY\")"
   ]
  },
  {
   "cell_type": "code",
   "execution_count": 107,
   "id": "81dad76a-cc1a-4c39-990c-87fde5365ea5",
   "metadata": {},
   "outputs": [],
   "source": [
    "import requests,json"
   ]
  },
  {
   "cell_type": "code",
   "execution_count": 108,
   "id": "9fa2cb91-bf8e-4513-8422-bf802e071b57",
   "metadata": {},
   "outputs": [],
   "source": [
    "def get_weather(loc):\n",
    "    \"\"\"\n",
    "    查询即时天气函数\n",
    "    :param loc: 必要参数，字符串类型，用于表示查询天气的具体城市名称，\\\n",
    "    注意，中国的城市需要用对应城市的英文名称代替，例如如果需要查询北京市天气，则loc参数需要输入'Beijing'；\n",
    "    :return：OpenWeather API查询即时天气的结果，具体URL请求地址为：https://api.openweathermap.org/data/2.5/weather\\\n",
    "    返回结果对象类型为解析之后的JSON格式对象，并用字符串形式进行表示，其中包含了全部重要的天气信息\n",
    "    \"\"\"\n",
    "    # Step 1.构建请求\n",
    "    url = \"https://api.openweathermap.org/data/2.5/weather\"\n",
    "\n",
    "    # Step 2.设置查询参数\n",
    "    params = {\n",
    "        \"q\": loc,               \n",
    "        \"appid\": os.getenv(\"OPENWEATHER_API_KEY\"),    # 输入API key\n",
    "        \"units\": \"metric\",            # 使用摄氏度而不是华氏度\n",
    "        \"lang\":\"zh_cn\"                # 输出语言为简体中文\n",
    "    }\n",
    "\n",
    "    # Step 3.发送GET请求\n",
    "    response = requests.get(url, params=params)\n",
    "    \n",
    "    # Step 4.解析响应\n",
    "    data = response.json()\n",
    "    return json.dumps(data)"
   ]
  },
  {
   "cell_type": "code",
   "execution_count": 109,
   "id": "06e01d98-d007-4bdf-b9fc-18dbe03683d3",
   "metadata": {},
   "outputs": [
    {
     "data": {
      "text/plain": [
       "'{\"coord\": {\"lon\": 116.3972, \"lat\": 39.9075}, \"weather\": [{\"id\": 804, \"main\": \"Clouds\", \"description\": \"\\\\u9634\\\\uff0c\\\\u591a\\\\u4e91\", \"icon\": \"04d\"}], \"base\": \"stations\", \"main\": {\"temp\": 32.94, \"feels_like\": 31.93, \"temp_min\": 32.94, \"temp_max\": 32.94, \"pressure\": 1000, \"humidity\": 30, \"sea_level\": 1000, \"grnd_level\": 995}, \"visibility\": 10000, \"wind\": {\"speed\": 3.18, \"deg\": 166, \"gust\": 6.33}, \"clouds\": {\"all\": 99}, \"dt\": 1750156726, \"sys\": {\"type\": 1, \"id\": 9609, \"country\": \"CN\", \"sunrise\": 1750106727, \"sunset\": 1750160709}, \"timezone\": 28800, \"id\": 1816670, \"name\": \"Beijing\", \"cod\": 200}'"
      ]
     },
     "execution_count": 109,
     "metadata": {},
     "output_type": "execute_result"
    }
   ],
   "source": [
    "get_weather(\"Beijing\")"
   ]
  },
  {
   "cell_type": "code",
   "execution_count": 69,
   "id": "d8fb1343-65f4-4b35-b8ff-2a2c26e6e0f7",
   "metadata": {},
   "outputs": [
    {
     "data": {
      "text/plain": [
       "'{\"coord\": {\"lon\": 116.3972, \"lat\": 39.9075}, \"weather\": [{\"id\": 803, \"main\": \"Clouds\", \"description\": \"\\\\u591a\\\\u4e91\", \"icon\": \"04d\"}], \"base\": \"stations\", \"main\": {\"temp\": 34.94, \"feels_like\": 33.83, \"temp_min\": 34.94, \"temp_max\": 34.94, \"pressure\": 1003, \"humidity\": 26, \"sea_level\": 1003, \"grnd_level\": 996}, \"visibility\": 10000, \"wind\": {\"speed\": 6.87, \"deg\": 176, \"gust\": 10.02}, \"clouds\": {\"all\": 74}, \"dt\": 1749724093, \"sys\": {\"type\": 1, \"id\": 9609, \"country\": \"CN\", \"sunrise\": 1749674728, \"sunset\": 1749728589}, \"timezone\": 28800, \"id\": 1816670, \"name\": \"Beijing\", \"cod\": 200}'"
      ]
     },
     "execution_count": 69,
     "metadata": {},
     "output_type": "execute_result"
    }
   ],
   "source": [
    "get_weather(\"Beijing\")"
   ]
  },
  {
   "cell_type": "markdown",
   "id": "ff164e18-46a6-48d4-afc4-251d9b24f7bd",
   "metadata": {},
   "source": [
    "紧接着将其封装为LangChain能够识别的外部函数："
   ]
  },
  {
   "cell_type": "code",
   "execution_count": 71,
   "id": "f9516fca-d7c8-43ce-aa19-4a42d7917454",
   "metadata": {},
   "outputs": [],
   "source": [
    "from langchain_core.tools import tool"
   ]
  },
  {
   "cell_type": "code",
   "execution_count": 72,
   "id": "8da51576-b7e2-4ecc-9bdd-4a5decb06e42",
   "metadata": {},
   "outputs": [],
   "source": [
    "@tool\n",
    "def get_weather(loc):\n",
    "    \"\"\"\n",
    "    查询即时天气函数\n",
    "    :param loc: 必要参数，字符串类型，用于表示查询天气的具体城市名称，\\\n",
    "    注意，中国的城市需要用对应城市的英文名称代替，例如如果需要查询北京市天气，则loc参数需要输入'Beijing'；\n",
    "    :return：OpenWeather API查询即时天气的结果，具体URL请求地址为：https://api.openweathermap.org/data/2.5/weather\\\n",
    "    返回结果对象类型为解析之后的JSON格式对象，并用字符串形式进行表示，其中包含了全部重要的天气信息\n",
    "    \"\"\"\n",
    "    # Step 1.构建请求\n",
    "    url = \"https://api.openweathermap.org/data/2.5/weather\"\n",
    "\n",
    "    # Step 2.设置查询参数\n",
    "    params = {\n",
    "        \"q\": loc,               \n",
    "        \"appid\": os.getenv(\"OPENWEATHER_API_KEY\"),    # 输入API key\n",
    "        \"units\": \"metric\",            # 使用摄氏度而不是华氏度\n",
    "        \"lang\":\"zh_cn\"                # 输出语言为简体中文\n",
    "    }\n",
    "\n",
    "    # Step 3.发送GET请求\n",
    "    response = requests.get(url, params=params)\n",
    "    \n",
    "    # Step 4.解析响应\n",
    "    data = response.json()\n",
    "    return json.dumps(data)"
   ]
  },
  {
   "cell_type": "code",
   "execution_count": 75,
   "id": "2b5d965d-c69b-42a0-80c4-3d840b33ed83",
   "metadata": {},
   "outputs": [
    {
     "name": "stdout",
     "output_type": "stream",
     "text": [
      "get_weather\n",
      "查询即时天气函数\n",
      ":param loc: 必要参数，字符串类型，用于表示查询天气的具体城市名称，    注意，中国的城市需要用对应城市的英文名称代替，例如如果需要查询北京市天气，则loc参数需要输入'Beijing'；\n",
      ":return：OpenWeather API查询即时天气的结果，具体URL请求地址为：https://api.openweathermap.org/data/2.5/weather    返回结果对象类型为解析之后的JSON格式对象，并用字符串形式进行表示，其中包含了全部重要的天气信息\n",
      "{'loc': {'title': 'Loc'}}\n"
     ]
    }
   ],
   "source": [
    "print(get_weather.name)\n",
    "print(get_weather.description)\n",
    "print(get_weather.args)"
   ]
  },
  {
   "cell_type": "markdown",
   "id": "fbd6d0bc-0f92-45f4-a6a0-bcc5f710b6f6",
   "metadata": {},
   "source": [
    "&emsp;&emsp;然后继续使用`DeepSeek`模型，如下代码所示："
   ]
  },
  {
   "cell_type": "code",
   "execution_count": 76,
   "id": "d97e0c0b-2bb1-4682-8b77-06f27f14599d",
   "metadata": {},
   "outputs": [],
   "source": [
    "from langchain.chat_models import init_chat_model\n",
    "\n",
    "# 初始化模型\n",
    "model = init_chat_model(\"deepseek-chat\", model_provider=\"deepseek\")"
   ]
  },
  {
   "cell_type": "markdown",
   "id": "37a44ccb-558a-409b-8848-402dd0d49beb",
   "metadata": {},
   "source": [
    "&emsp;&emsp;接下来，如果想让大模型调用某一个外部工具，需要使用`bind_tools`方法，将工具绑定到模型上。代码如下："
   ]
  },
  {
   "cell_type": "code",
   "execution_count": 77,
   "id": "22b5757b-d9e8-4d11-9c6a-8215b6edcc58",
   "metadata": {},
   "outputs": [],
   "source": [
    "# 定义 天气查询 工具函数\n",
    "tools = [get_weather]\n",
    "\n",
    "# 将工具绑定到模型\n",
    "llm_with_tools = model.bind_tools(tools)"
   ]
  },
  {
   "cell_type": "markdown",
   "id": "e6508902-240b-4c7f-bc10-5653f988d02e",
   "metadata": {},
   "source": [
    "&emsp;&emsp;接下来，便可以通过新的`llm_with_tools`模型通过`invoke`方法来调用模型。代码如下："
   ]
  },
  {
   "cell_type": "code",
   "execution_count": 78,
   "id": "76adb9ac-5315-4fce-953f-b4f5cb48bfdc",
   "metadata": {},
   "outputs": [
    {
     "name": "stdout",
     "output_type": "stream",
     "text": [
      "content='' additional_kwargs={'tool_calls': [{'id': 'call_0_ccca5fbb-1ae0-4603-91a4-e33916f62241', 'function': {'arguments': '{\"loc\":\"Beijing\"}', 'name': 'get_weather'}, 'type': 'function', 'index': 0}], 'refusal': None} response_metadata={'token_usage': {'completion_tokens': 19, 'prompt_tokens': 203, 'total_tokens': 222, 'completion_tokens_details': None, 'prompt_tokens_details': {'audio_tokens': None, 'cached_tokens': 0}, 'prompt_cache_hit_tokens': 0, 'prompt_cache_miss_tokens': 203}, 'model_name': 'deepseek-chat', 'system_fingerprint': 'fp_8802369eaa_prod0425fp8', 'id': '329ef1c1-cf46-4732-aa57-6502f78aec64', 'service_tier': None, 'finish_reason': 'tool_calls', 'logprobs': None} id='run--a9403fc2-376f-4ab7-bd32-fb2491db38c0-0' tool_calls=[{'name': 'get_weather', 'args': {'loc': 'Beijing'}, 'id': 'call_0_ccca5fbb-1ae0-4603-91a4-e33916f62241', 'type': 'tool_call'}] usage_metadata={'input_tokens': 203, 'output_tokens': 19, 'total_tokens': 222, 'input_token_details': {'cache_read': 0}, 'output_token_details': {}}\n"
     ]
    }
   ],
   "source": [
    "response = llm_with_tools.invoke(\"你好， 请问北京的天气怎么样？\")\n",
    "\n",
    "print(response)"
   ]
  },
  {
   "cell_type": "markdown",
   "id": "d544207f-6b67-4927-bcba-9fec16e3512c",
   "metadata": {},
   "source": [
    "&emsp;&emsp;这会产生一个包含`tool_calls` 的模型响应，打印如下："
   ]
  },
  {
   "cell_type": "code",
   "execution_count": 79,
   "id": "5fe72ab8-1e50-46fd-ab67-2aaf7f08e1c9",
   "metadata": {},
   "outputs": [
    {
     "data": {
      "text/plain": [
       "{'tool_calls': [{'id': 'call_0_ccca5fbb-1ae0-4603-91a4-e33916f62241',\n",
       "   'function': {'arguments': '{\"loc\":\"Beijing\"}', 'name': 'get_weather'},\n",
       "   'type': 'function',\n",
       "   'index': 0}],\n",
       " 'refusal': None}"
      ]
     },
     "execution_count": 79,
     "metadata": {},
     "output_type": "execute_result"
    }
   ],
   "source": [
    "response.additional_kwargs"
   ]
  },
  {
   "cell_type": "markdown",
   "id": "d314b610-a4ea-435e-a805-20fedaed6466",
   "metadata": {},
   "source": [
    "&emsp;&emsp;我们继续调用`JsonOutputKeyToolsParser`输出解析器来处理模型响应。"
   ]
  },
  {
   "cell_type": "code",
   "execution_count": 85,
   "id": "0fd56be6-291f-41dc-9325-7d29be8e9d43",
   "metadata": {},
   "outputs": [],
   "source": [
    "from langchain_core.output_parsers.openai_tools import JsonOutputKeyToolsParser"
   ]
  },
  {
   "cell_type": "code",
   "execution_count": 86,
   "id": "e0258b14-0b16-466a-9c72-ecd13c4ce4eb",
   "metadata": {},
   "outputs": [],
   "source": [
    "parser = JsonOutputKeyToolsParser(key_name=get_weather.name, first_tool_only=True)"
   ]
  },
  {
   "cell_type": "code",
   "execution_count": 87,
   "id": "24298b94-1ad1-4b9a-8251-572f15bf880c",
   "metadata": {},
   "outputs": [],
   "source": [
    "llm_chain = llm_with_tools | parser"
   ]
  },
  {
   "cell_type": "code",
   "execution_count": 88,
   "id": "8be2457b-b876-4a12-a873-cd9eeb3348d1",
   "metadata": {},
   "outputs": [
    {
     "data": {
      "text/plain": [
       "{'loc': 'Beijing'}"
      ]
     },
     "execution_count": 88,
     "metadata": {},
     "output_type": "execute_result"
    }
   ],
   "source": [
    "llm_chain.invoke(\"请问北京今天天气如何？\")"
   ]
  },
  {
   "cell_type": "code",
   "execution_count": 89,
   "id": "2156e1aa-b8ff-42c1-a16e-ce1c08281cdf",
   "metadata": {},
   "outputs": [],
   "source": [
    "get_weather_chain = prompt | llm_with_tools | parser | get_weather"
   ]
  },
  {
   "cell_type": "code",
   "execution_count": 90,
   "id": "237ecad8-5640-47d3-b746-50465d3ab5ff",
   "metadata": {},
   "outputs": [
    {
     "data": {
      "text/plain": [
       "'{\"coord\": {\"lon\": 116.3972, \"lat\": 39.9075}, \"weather\": [{\"id\": 803, \"main\": \"Clouds\", \"description\": \"\\\\u591a\\\\u4e91\", \"icon\": \"04d\"}], \"base\": \"stations\", \"main\": {\"temp\": 34.94, \"feels_like\": 33.23, \"temp_min\": 34.94, \"temp_max\": 34.94, \"pressure\": 1002, \"humidity\": 22, \"sea_level\": 1002, \"grnd_level\": 997}, \"visibility\": 10000, \"wind\": {\"speed\": 6.23, \"deg\": 175, \"gust\": 9.33}, \"clouds\": {\"all\": 74}, \"dt\": 1749724384, \"sys\": {\"type\": 1, \"id\": 9609, \"country\": \"CN\", \"sunrise\": 1749674728, \"sunset\": 1749728589}, \"timezone\": 28800, \"id\": 1816670, \"name\": \"Beijing\", \"cod\": 200}'"
      ]
     },
     "execution_count": 90,
     "metadata": {},
     "output_type": "execute_result"
    }
   ],
   "source": [
    "get_weather_chain.invoke(\"请问北京今天天气如何？\")"
   ]
  },
  {
   "cell_type": "markdown",
   "id": "8ea14809-4698-4119-b121-5f01b8df06ee",
   "metadata": {},
   "source": [
    "能够看到，此时Chain就能顺利的将用户的需求转化为天气查询，并完成外部工具的自动运行。但只有这一步还不够，我们还需要将其转化为一个模型的问答："
   ]
  },
  {
   "cell_type": "code",
   "execution_count": 92,
   "id": "bcce3183-b85e-465c-bb6c-924e560d3138",
   "metadata": {},
   "outputs": [],
   "source": [
    "from langchain.prompts import PromptTemplate\n",
    "from langchain_core.output_parsers import StrOutputParser"
   ]
  },
  {
   "cell_type": "code",
   "execution_count": 91,
   "id": "b5a49f0b-80c0-4486-bd13-733b2656630f",
   "metadata": {},
   "outputs": [],
   "source": [
    "from langchain.prompts import PromptTemplate\n",
    "from langchain_core.output_parsers import StrOutputParser\n",
    "\n",
    "# Prompt 模板\n",
    "output_prompt = PromptTemplate.from_template(\n",
    "    \"\"\"你将收到一段 JSON 格式的天气数据，请用简洁自然的方式将其转述给用户。\n",
    "以下是天气 JSON 数据：\n",
    "\n",
    "```json\n",
    "{weather_json}\n",
    "```\n",
    "\n",
    "请将其转换为中文天气描述，例如：\n",
    "“北京当前天气晴，气温为 23°C，湿度 58%，风速 2.1 米/秒。”\n",
    "只返回一句话描述，不要其他说明或解释。\"\"\"\n",
    ")"
   ]
  },
  {
   "cell_type": "code",
   "execution_count": 93,
   "id": "81055153-313c-4694-9217-c8d6368743c3",
   "metadata": {},
   "outputs": [],
   "source": [
    "output_chain = output_prompt | model | StrOutputParser()"
   ]
  },
  {
   "cell_type": "code",
   "execution_count": 94,
   "id": "12e0bdf4-2b4b-4c47-bc15-5db8c8aa10f7",
   "metadata": {},
   "outputs": [
    {
     "name": "stdout",
     "output_type": "stream",
     "text": [
      "北京当前天气多云，气温为 34.94°C，体感温度 33.23°C，湿度 22%，风速 6.23 米/秒。\n"
     ]
    }
   ],
   "source": [
    "weather_json = '{\"coord\": {\"lon\": 116.3972, \"lat\": 39.9075}, \"weather\": [{\"id\": 803, \"main\": \"Clouds\", \"description\": \"\\\\u591a\\\\u4e91\", \"icon\": \"04d\"}], \"base\": \"stations\", \"main\": {\"temp\": 34.94, \"feels_like\": 33.23, \"temp_min\": 34.94, \"temp_max\": 34.94, \"pressure\": 1002, \"humidity\": 22, \"sea_level\": 1002, \"grnd_level\": 997}, \"visibility\": 10000, \"wind\": {\"speed\": 6.23, \"deg\": 175, \"gust\": 9.33}, \"clouds\": {\"all\": 74}, \"dt\": 1749724384, \"sys\": {\"type\": 1, \"id\": 9609, \"country\": \"CN\", \"sunrise\": 1749674728, \"sunset\": 1749728589}, \"timezone\": 28800, \"id\": 1816670, \"name\": \"Beijing\", \"cod\": 200}'\n",
    "\n",
    "result = output_chain.invoke({\"weather_json\": weather_json})\n",
    "print(result)"
   ]
  },
  {
   "cell_type": "markdown",
   "id": "35fa97b7-3e6e-4dd4-be11-677ba0f2fd25",
   "metadata": {},
   "source": [
    "而最终，我们将这两个Chain进行拼接，即可构成完整的外部工具调用流程："
   ]
  },
  {
   "cell_type": "code",
   "execution_count": 96,
   "id": "9277f7ee-686f-4ff2-864d-e21a4b154cda",
   "metadata": {},
   "outputs": [
    {
     "name": "stdout",
     "output_type": "stream",
     "text": [
      "北京当前天气多云，气温为 33.94°C，体感温度 32.21°C，湿度 23%，风速 6.23 米/秒。\n"
     ]
    }
   ],
   "source": [
    "full_chain = get_weather_chain | output_chain\n",
    "response = full_chain.invoke(\"请问北京今天的天气如何？\")\n",
    "print(response)"
   ]
  },
  {
   "cell_type": "markdown",
   "id": "76e73e28-a7e2-48bd-b215-5a1f5b79c626",
   "metadata": {},
   "source": [
    "### 3. LangChain接入自定义外部工作流程"
   ]
  },
  {
   "cell_type": "markdown",
   "id": "6c97a2f5-9038-4fb1-b532-c60fe125d736",
   "metadata": {},
   "source": [
    "- Function calling基本原理"
   ]
  },
  {
   "cell_type": "markdown",
   "id": "00e830d3-d65b-4dee-8df8-a00313ce3ffe",
   "metadata": {},
   "source": [
    "&emsp;&emsp;我们都知道，能调用外部工具，是大模型进化为智能体`Agent`的关键，如果不能使用外部工具，大模型就只能是个简单的聊天机器人，甚至连查询天气都做不到。由于底层技术限制啊，大模型本身是无法和外部工具直接通信的，因此`Function calling`的思路，就是创建一个外部函数（`function`）作为中介，一边传递大模型的请求，另一边调用外部工具，最终让大模型能够间接的调用外部工具。"
   ]
  },
  {
   "cell_type": "markdown",
   "id": "7a319d6c-7e65-42de-ae41-114f20b51664",
   "metadata": {},
   "source": [
    "<center><img src=\"https://ml2022.oss-cn-hangzhou.aliyuncs.com/img/image-20250318202017508.png\" alt=\"image-20250318202017508\" style=\"zoom:35%;\" />"
   ]
  },
  {
   "cell_type": "markdown",
   "id": "f6c7528b-5e7e-43af-90a2-f54b526f7302",
   "metadata": {},
   "source": [
    "&emsp;&emsp;例如，当我们要查询当前天气时，让大模型调用外部工具的function calling的过程就如图所示：\n",
    "\n",
    "<center><img src=\"https://ml2022.oss-cn-hangzhou.aliyuncs.com/img/image-20250318202029130.png\" alt=\"image-20250318202029130\" style=\"zoom:35%;\" />"
   ]
  },
  {
   "cell_type": "markdown",
   "id": "ef49b8f9-463d-4150-9692-6287f4a160bd",
   "metadata": {},
   "source": [
    "&emsp;&emsp;而完整的一次`Function calling`执行流程如下：\n",
    "\n",
    "<center><img src=\"https://ml2022.oss-cn-hangzhou.aliyuncs.com/img/202412191720637.png\" alt=\"202412191720637\" style=\"zoom:50%;\" />"
   ]
  },
  {
   "cell_type": "markdown",
   "id": "a63bcca1-6a79-444d-850a-266d1d52f7c4",
   "metadata": {},
   "source": [
    "- 存在问题"
   ]
  },
  {
   "cell_type": "markdown",
   "id": "bbb6f2be-8d06-400e-871d-bd894d294751",
   "metadata": {},
   "source": [
    "<center><img src=\"https://ml2022.oss-cn-hangzhou.aliyuncs.com/img/image-20250401155527229.png\" alt=\"image-20250401155527229\" style=\"zoom:33%;\" />"
   ]
  },
  {
   "cell_type": "markdown",
   "id": "50489be4-cc5f-4ec8-b38e-dad9f465830e",
   "metadata": {},
   "source": [
    "&emsp;&emsp;在实际使用中，我们其实可以直接使用`create_tool_calling_agent`来快速构建工具调用代理。代码如下："
   ]
  },
  {
   "cell_type": "code",
   "execution_count": 98,
   "id": "9a3d0e2e-66fd-453a-b024-e7f7ce677532",
   "metadata": {},
   "outputs": [],
   "source": [
    "from langchain.agents import create_tool_calling_agent, tool\n",
    "from langchain_core.prompts import ChatPromptTemplate\n",
    "\n",
    "#定义工具\n",
    "tools = [get_weather]\n",
    "\n",
    "# 构建提示模版\n",
    "prompt = ChatPromptTemplate.from_messages(\n",
    "    [\n",
    "        (\"system\", \"你是天气助手，请根据用户的问题，给出相应的天气信息\"),\n",
    "        (\"human\", \"{input}\"),\n",
    "        (\"placeholder\", \"{agent_scratchpad}\"),\n",
    "    ]\n",
    ")\n",
    "\n",
    "# 初始化模型\n",
    "model = init_chat_model(\"deepseek-chat\", model_provider=\"deepseek\")\n",
    "\n",
    "# 直接使用`create_tool_calling_agent`创建代理\n",
    "agent = create_tool_calling_agent(model, tools, prompt)"
   ]
  },
  {
   "cell_type": "markdown",
   "id": "e0c5c43a-a495-4bd0-bfcc-87c6e615b173",
   "metadata": {},
   "source": [
    "&emsp;&emsp;使用`AgentExecutor`来执行代理。代码如下："
   ]
  },
  {
   "cell_type": "code",
   "execution_count": 49,
   "id": "1e4c3f64-ed09-455f-b347-0dc60df4f4c3",
   "metadata": {
    "scrolled": true
   },
   "outputs": [
    {
     "name": "stdout",
     "output_type": "stream",
     "text": [
      "\n",
      "\n",
      "\u001b[1m> Entering new AgentExecutor chain...\u001b[0m\n",
      "\u001b[32;1m\u001b[1;3m\n",
      "Invoking: `get_weather` with `{'loc': 'Beijing'}`\n",
      "\n",
      "\n",
      "\u001b[0m\u001b[36;1m\u001b[1;3m{\"coord\": {\"lon\": 116.3972, \"lat\": 39.9075}, \"weather\": [{\"id\": 800, \"main\": \"Clear\", \"description\": \"\\u6674\", \"icon\": \"01d\"}], \"base\": \"stations\", \"main\": {\"temp\": 25.94, \"feels_like\": 25.74, \"temp_min\": 25.94, \"temp_max\": 25.94, \"pressure\": 1001, \"humidity\": 44, \"sea_level\": 1001, \"grnd_level\": 996}, \"visibility\": 10000, \"wind\": {\"speed\": 9.59, \"deg\": 343, \"gust\": 12.9}, \"clouds\": {\"all\": 0}, \"dt\": 1749456143, \"sys\": {\"type\": 1, \"id\": 9609, \"country\": \"CN\", \"sunrise\": 1749415551, \"sunset\": 1749469297}, \"timezone\": 28800, \"id\": 1816670, \"name\": \"Beijing\", \"cod\": 200}\u001b[0m\u001b[32;1m\u001b[1;3m今天北京的天气晴朗，气温为25.94°C，体感温度约为25.74°C。湿度为44%，风速为9.59米/秒，风向为343度（西北风）。能见度良好，达到10000米。气压为1001 hPa。总体来说，今天是一个适合户外活动的好天气！\u001b[0m\n",
      "\n",
      "\u001b[1m> Finished chain.\u001b[0m\n",
      "{'input': '请问今天北京的天气怎么样？', 'output': '今天北京的天气晴朗，气温为25.94°C，体感温度约为25.74°C。湿度为44%，风速为9.59米/秒，风向为343度（西北风）。能见度良好，达到10000米。气压为1001 hPa。总体来说，今天是一个适合户外活动的好天气！'}\n"
     ]
    }
   ],
   "source": [
    "from langchain.agents import AgentExecutor\n",
    "agent_executor = AgentExecutor(agent=agent, tools=tools, verbose=True)\n",
    "\n",
    "\n",
    "response = agent_executor.invoke({\"input\": \"请问今天北京的天气怎么样？\"})\n",
    "print(response)"
   ]
  },
  {
   "cell_type": "code",
   "execution_count": 51,
   "id": "7a0daae7-2dde-44dc-bf82-84d1a8e7a096",
   "metadata": {},
   "outputs": [
    {
     "name": "stdout",
     "output_type": "stream",
     "text": [
      "今天北京的天气晴朗，气温为25.94°C，体感温度约为25.74°C。湿度为44%，风速为9.59米/秒，风向为343度（西北风）。能见度良好，达到10000米。气压为1001 hPa。总体来说，今天是一个适合户外活动的好天气！\n"
     ]
    }
   ],
   "source": [
    "print(response[\"output\"])"
   ]
  },
  {
   "cell_type": "markdown",
   "id": "ffec97d6-85ab-44df-ae9d-6a68e0fc53ff",
   "metadata": {},
   "source": [
    "### 4. LangChain Agents 运行流程"
   ]
  },
  {
   "cell_type": "markdown",
   "id": "197904c4-12c1-4e02-ac1e-d4fa4d1e1d98",
   "metadata": {},
   "source": [
    "&emsp;&emsp;`LangChain` 中`Agents`模块的整体架构设计。如下所示：\n",
    "\n",
    "<div align=center><img src=\"https://snowball101.oss-cn-beijing.aliyuncs.com/img/202404031102489.png\" width=80%></div>"
   ]
  },
  {
   "cell_type": "markdown",
   "id": "f64a8dad-6eaf-4e45-be1d-f79a5868d179",
   "metadata": {},
   "source": [
    "&emsp;&emsp;在`Agents`的内部结构。每个`Agent`组件一般会由语言模型 + 提示 + 输出解析器构成，它会作为`Agents`的大脑去处理用户的输入。`Agent`能够处理的输入主要来源于三个方面：`input`代表用户的原始输入，`Model Response`指的是模型对某一个子任务的响应输出，而`History`则能携带上下文的信息。其输出部分，则链接到实际的工具库，需要调用哪些工具，将由经过`Agent`模块后拆分的子任务来决定。"
   ]
  },
  {
   "cell_type": "markdown",
   "id": "6a4f1d32-e9af-4f54-8408-3fc74b0a1cf1",
   "metadata": {},
   "source": [
    "&emsp;&emsp;而我们知道，大模型调用外部函数会分为两个过程：识别工具和实际执行。在Message -> Agent -> Toolkits 这个流程中，负责的是将子任务拆解，然后根据这些子任务在工具库中找到相应的工具，提取工具名称及所需参数，这个过程可以视作一种“静态”的执行流程。而将这些决策转化为实际行动的工作，则会交给`AgentExecutor`。\n",
    "\n",
    "&emsp;&emsp;所以综上需要理解的是：在LangChain的`Agents`实际架构中，`Agent`的角色是接收输入并决定采取的操作，但它本身并不直接执行这些操作。这一任务是由`AgentExecutor`来完成的。将`Agent`（决策大脑）与`AgentExecutor`（执行操作的Runtime）结合使用，才构成了完整的`Agents`（智能体），其中`AgentExecutor`负责调用代理并执行指定的工具，以此来实现整个智能体的功能。"
   ]
  },
  {
   "cell_type": "markdown",
   "id": "0926f8d1-9184-4acb-85fb-2dbee1257eeb",
   "metadata": {},
   "source": [
    "&emsp;&emsp;这也就是为什么`create_tool_calling_agent`需要通过`AgentExecutor`才能够实际运行的原因。当然，在这种模式下，`AgentExecutor`的内部已经自动处理好了关于我们工具调用的所有逻辑，其中包含串行和并行工具调用的两种常用模式。"
   ]
  },
  {
   "cell_type": "markdown",
   "id": "47b820fc-ca11-4e21-a419-e54be783154c",
   "metadata": {},
   "source": [
    "<center><img src=\"https://ml2022.oss-cn-hangzhou.aliyuncs.com/img/image-20250401155527229.png\" alt=\"image-20250401155527229\" style=\"zoom:33%;\" />"
   ]
  },
  {
   "cell_type": "markdown",
   "id": "f9c4f2b0-3fa4-4e75-8fd4-26f7bdaaa319",
   "metadata": {},
   "source": [
    "#### 3.1 多工具并联调用"
   ]
  },
  {
   "cell_type": "markdown",
   "id": "20da4107-253b-4e1f-a310-0db47be18786",
   "metadata": {},
   "source": [
    "&emsp;&emsp;在大模型中，并行工具调用指的是在大模型调用外部工具时，可以在单次交互过程中可以同时调用多个工具，并行执行以解决用户的问题。如下图所示："
   ]
  },
  {
   "cell_type": "markdown",
   "id": "1c6e7e9e-e9a2-4f79-9e65-855221efd339",
   "metadata": {},
   "source": [
    "<center><img src=\"https://ml2022.oss-cn-hangzhou.aliyuncs.com/img/image-20250320184519636.png\" alt=\"image-20250320184519636\" style=\"zoom:50%;\" />"
   ]
  },
  {
   "cell_type": "markdown",
   "id": "2aba4c13-a414-4359-9e37-0ede78acac58",
   "metadata": {},
   "source": [
    "&emsp;&emsp;而在`create_tool_calling_agent`中，已经自动处理了并行工具调用的处理逻辑，并不需要我们在手动处理，比如接下来测试一些复杂的问题："
   ]
  },
  {
   "cell_type": "code",
   "execution_count": 52,
   "id": "97ca3742-b929-48cf-a6d8-fed17f305842",
   "metadata": {},
   "outputs": [],
   "source": [
    "from langchain.agents import create_tool_calling_agent, tool\n",
    "from langchain_core.prompts import ChatPromptTemplate\n",
    "\n",
    "#定义工具\n",
    "tools = [get_weather]\n",
    "\n",
    "# 构建提示模版\n",
    "prompt = ChatPromptTemplate.from_messages(\n",
    "    [\n",
    "        (\"system\", \"你是天气助手，请根据用户的问题，给出相应的天气信息\"),\n",
    "        (\"human\", \"{input}\"),\n",
    "        (\"placeholder\", \"{agent_scratchpad}\"),\n",
    "    ]\n",
    ")\n",
    "\n",
    "# 初始化模型\n",
    "model = init_chat_model(\"deepseek-chat\", model_provider=\"deepseek\")\n",
    "\n",
    "# 直接使用`create_tool_calling_agent`创建代理\n",
    "agent = create_tool_calling_agent(model, tools, prompt)"
   ]
  },
  {
   "cell_type": "markdown",
   "id": "3886c661-cfb7-4a74-821e-20ed17da7037",
   "metadata": {},
   "source": [
    "&emsp;&emsp;这里我们在提出的问题中，尝试让大模型同时查询北京和上海两个城市的天气并汇总结果。"
   ]
  },
  {
   "cell_type": "code",
   "execution_count": 54,
   "id": "22a6620f-08d3-4551-a430-9b7781780b8a",
   "metadata": {},
   "outputs": [
    {
     "name": "stdout",
     "output_type": "stream",
     "text": [
      "\n",
      "\n",
      "\u001b[1m> Entering new AgentExecutor chain...\u001b[0m\n",
      "\u001b[32;1m\u001b[1;3m\n",
      "Invoking: `get_weather` with `{'loc': 'Beijing'}`\n",
      "\n",
      "\n",
      "\u001b[0m\u001b[36;1m\u001b[1;3m{\"coord\": {\"lon\": 116.3972, \"lat\": 39.9075}, \"weather\": [{\"id\": 800, \"main\": \"Clear\", \"description\": \"\\u6674\", \"icon\": \"01d\"}], \"base\": \"stations\", \"main\": {\"temp\": 23.94, \"feels_like\": 23.54, \"temp_min\": 23.94, \"temp_max\": 23.94, \"pressure\": 1001, \"humidity\": 44, \"sea_level\": 1001, \"grnd_level\": 996}, \"visibility\": 10000, \"wind\": {\"speed\": 9.59, \"deg\": 343, \"gust\": 12.9}, \"clouds\": {\"all\": 0}, \"dt\": 1749457700, \"sys\": {\"type\": 1, \"id\": 9609, \"country\": \"CN\", \"sunrise\": 1749415551, \"sunset\": 1749469297}, \"timezone\": 28800, \"id\": 1816670, \"name\": \"Beijing\", \"cod\": 200}\u001b[0m\u001b[32;1m\u001b[1;3m\n",
      "Invoking: `get_weather` with `{'loc': 'Hangzhou'}`\n",
      "\n",
      "\n",
      "\u001b[0m\u001b[36;1m\u001b[1;3m{\"coord\": {\"lon\": 120.1614, \"lat\": 30.2937}, \"weather\": [{\"id\": 500, \"main\": \"Rain\", \"description\": \"\\u5c0f\\u96e8\", \"icon\": \"10d\"}], \"base\": \"stations\", \"main\": {\"temp\": 23.95, \"feels_like\": 24.83, \"temp_min\": 23.95, \"temp_max\": 23.95, \"pressure\": 1005, \"humidity\": 93, \"sea_level\": 1005, \"grnd_level\": 1002}, \"visibility\": 10000, \"wind\": {\"speed\": 0.54, \"deg\": 101, \"gust\": 0.69}, \"rain\": {\"1h\": 0.75}, \"clouds\": {\"all\": 100}, \"dt\": 1749457874, \"sys\": {\"type\": 1, \"id\": 9651, \"country\": \"CN\", \"sunrise\": 1749416229, \"sunset\": 1749466812}, \"timezone\": 28800, \"id\": 1808926, \"name\": \"Hangzhou\", \"cod\": 200}\u001b[0m\u001b[32;1m\u001b[1;3m今天北京的天气晴朗，温度为23.94°C，体感温度为23.54°C，湿度为44%，风速较大，为9.59 m/s。\n",
      "\n",
      "杭州今天有小雨，温度为23.95°C，体感温度为24.83°C，湿度较高，为93%，风速较低，为0.54 m/s。\n",
      "\n",
      "从温度来看，两地的气温几乎相同，但杭州的体感温度稍高一些，且湿度较大，可能会感觉更闷热。而北京虽然风速较大，但湿度较低，感觉会更舒适一些。\u001b[0m\n",
      "\n",
      "\u001b[1m> Finished chain.\u001b[0m\n",
      "{'input': '请问今天北京和杭州的天气怎么样，哪个城市更热？', 'output': '今天北京的天气晴朗，温度为23.94°C，体感温度为23.54°C，湿度为44%，风速较大，为9.59 m/s。\\n\\n杭州今天有小雨，温度为23.95°C，体感温度为24.83°C，湿度较高，为93%，风速较低，为0.54 m/s。\\n\\n从温度来看，两地的气温几乎相同，但杭州的体感温度稍高一些，且湿度较大，可能会感觉更闷热。而北京虽然风速较大，但湿度较低，感觉会更舒适一些。'}\n"
     ]
    }
   ],
   "source": [
    "from langchain.agents import AgentExecutor\n",
    "agent_executor = AgentExecutor(agent=agent, tools=tools, verbose=True)\n",
    "\n",
    "\n",
    "response = agent_executor.invoke({\"input\": \"请问今天北京和杭州的天气怎么样，哪个城市更热？\"})\n",
    "print(response)"
   ]
  },
  {
   "cell_type": "markdown",
   "id": "11f2318a-f55b-475a-be13-61c1d8962275",
   "metadata": {},
   "source": [
    "&emsp;&emsp;从这个过程中可以明显的看出，一次性发起了同一个外部函数的两次调用请求，并依次获得了北京和杭州两个城市的天气。这就是一次标准的`parallel_function_call`。"
   ]
  },
  {
   "cell_type": "markdown",
   "id": "bc44f25b-d92f-4d87-992f-b838b1737c17",
   "metadata": {},
   "source": [
    "<center><img src=\"https://ml2022.oss-cn-hangzhou.aliyuncs.com/img/image-20250401161846923.png\" alt=\"image-20250401161846923\" style=\"zoom:50%;\" />"
   ]
  },
  {
   "cell_type": "markdown",
   "id": "d315fdd5-49ed-408a-9d6a-2c26e21068e3",
   "metadata": {},
   "source": [
    "#### 3.2 多工具串联调用"
   ]
  },
  {
   "cell_type": "markdown",
   "id": "b277bdc2-5c7c-41dd-823f-047f3dd6f9fa",
   "metadata": {},
   "source": [
    "&emsp;&emsp;接下来继续尝试进行多工具串联调用测试："
   ]
  },
  {
   "cell_type": "markdown",
   "id": "b1a64dbb-0401-4ae9-971d-79e64d512844",
   "metadata": {},
   "source": [
    "<center><img src=\"https://ml2022.oss-cn-hangzhou.aliyuncs.com/img/image-20250320184527687.png\" alt=\"image-20250320184527687\" style=\"zoom: 50%;\" />"
   ]
  },
  {
   "cell_type": "markdown",
   "id": "35bc522b-2ccf-4bad-9783-a8c990efc5ea",
   "metadata": {},
   "source": [
    "&emsp;&emsp;此时我们再定义一个write_file函数，用于将“文本写入本地”："
   ]
  },
  {
   "cell_type": "code",
   "execution_count": 55,
   "id": "efd3c589-7805-4661-a22a-1850a796af87",
   "metadata": {},
   "outputs": [],
   "source": [
    "@tool\n",
    "def write_file(content):\n",
    "    \"\"\"\n",
    "    将指定内容写入本地文件。\n",
    "    :param content: 必要参数，字符串类型，用于表示需要写入文档的具体内容。\n",
    "    :return：是否成功写入\n",
    "    \"\"\"\n",
    "    \n",
    "    return \"已成功写入本地文件。\""
   ]
  },
  {
   "cell_type": "markdown",
   "id": "cc693c33-a83d-468a-bb99-e2388f4e21b6",
   "metadata": {},
   "source": [
    "&emsp;&emsp;然后在`tools`列表中直接添加`write_file`工具，并修改提示模版，添加`write_file`工具的使用场景。代码如下所示：   "
   ]
  },
  {
   "cell_type": "code",
   "execution_count": 56,
   "id": "caab0d24-a273-4843-836d-dbe737ab151e",
   "metadata": {},
   "outputs": [],
   "source": [
    "from langchain.agents import AgentExecutor, create_tool_calling_agent, tool\n",
    "from langchain_core.prompts import ChatPromptTemplate\n",
    "\n",
    "\n",
    "tools = [get_weather, write_file]\n",
    "\n",
    "prompt = ChatPromptTemplate.from_messages(\n",
    "    [\n",
    "        (\"system\", \"你是天气助手，请根据用户的问题，给出相应的天气信息，如果用户需要将查询结果写入文件，请使用write_file工具\"),\n",
    "        (\"human\", \"{input}\"),\n",
    "        (\"placeholder\", \"{agent_scratchpad}\"),\n",
    "    ]\n",
    ")\n",
    "\n",
    "# 初始化模型\n",
    "model = init_chat_model(\"deepseek-chat\", model_provider=\"deepseek\")\n",
    "\n",
    "agent = create_tool_calling_agent(model, tools, prompt)"
   ]
  },
  {
   "cell_type": "markdown",
   "id": "930ffdab-e3d0-4220-b32f-f8f402162e39",
   "metadata": {},
   "source": [
    "&emsp;&emsp;接下来尝试运行："
   ]
  },
  {
   "cell_type": "code",
   "execution_count": null,
   "id": "289d95de-d077-4e3f-a5d0-b917ea5f117e",
   "metadata": {},
   "outputs": [
    {
     "name": "stdout",
     "output_type": "stream",
     "text": [
      "\n",
      "\n",
      "\u001b[1m> Entering new AgentExecutor chain...\u001b[0m\n",
      "\u001b[32;1m\u001b[1;3m\n",
      "Invoking: `get_weather` with `{'loc': 'Beijing'}`\n",
      "\n",
      "\n",
      "\u001b[0m"
     ]
    }
   ],
   "source": [
    "agent_executor = AgentExecutor(agent=agent, tools=tools, verbose=True)\n",
    "\n",
    "\n",
    "agent_executor.invoke({\"input\": \"查一下北京和杭州现在的温度，并将结果写入本地的文件中。\"})\n"
   ]
  },
  {
   "cell_type": "markdown",
   "id": "fe162765-82c3-4da7-a1d4-cc98f26a2f40",
   "metadata": {},
   "source": [
    "&emsp;&emsp;通过中间过程信息的打印，我们能够看到在一次交互过程中依次调用的`get_weather`查询到北京和杭州的天气，然后又将结果写入到本地的文件中。这就是一个非常典型的串行工具调用的流程，如下图所示："
   ]
  },
  {
   "cell_type": "markdown",
   "id": "346d9445-d8a3-4b1c-9b6d-58229313b604",
   "metadata": {},
   "source": [
    "<center><img src=\"https://ml2022.oss-cn-hangzhou.aliyuncs.com/img/image-20250401162048526.png\" alt=\"image-20250401162048526\" style=\"zoom:50%;\" />"
   ]
  },
  {
   "cell_type": "code",
   "execution_count": null,
   "id": "39ef1844-6557-4a8d-a782-9efef244021d",
   "metadata": {},
   "outputs": [],
   "source": []
  },
  {
   "cell_type": "code",
   "execution_count": null,
   "id": "d773d7ff-d5f7-4f1f-8e1d-a10e36fdbab8",
   "metadata": {},
   "outputs": [],
   "source": []
  },
  {
   "cell_type": "code",
   "execution_count": null,
   "id": "ea70087d-a6c4-45f6-8cbf-8f2da476423c",
   "metadata": {},
   "outputs": [],
   "source": []
  }
 ],
 "metadata": {
  "kernelspec": {
   "display_name": "Python 3 (ipykernel)",
   "language": "python",
   "name": "python3"
  },
  "language_info": {
   "codemirror_mode": {
    "name": "ipython",
    "version": 3
   },
   "file_extension": ".py",
   "mimetype": "text/x-python",
   "name": "python",
   "nbconvert_exporter": "python",
   "pygments_lexer": "ipython3",
   "version": "3.12.4"
  }
 },
 "nbformat": 4,
 "nbformat_minor": 5
}
